{
 "cells": [
  {
   "cell_type": "code",
   "execution_count": 2,
   "id": "72282794-ab44-4cb7-a1d8-4b27d48dc1f6",
   "metadata": {},
   "outputs": [
    {
     "name": "stdout",
     "output_type": "stream",
     "text": [
      "The autoreload extension is already loaded. To reload it, use:\n",
      "  %reload_ext autoreload\n"
     ]
    }
   ],
   "source": [
    "%load_ext autoreload\n",
    "%autoreload 2"
   ]
  },
  {
   "cell_type": "code",
   "execution_count": 3,
   "id": "bda30911-6ef2-4c04-889d-c2388240190d",
   "metadata": {},
   "outputs": [],
   "source": [
    "import sys\n",
    "sys.path.append(\"../\")"
   ]
  },
  {
   "cell_type": "code",
   "execution_count": 5,
   "id": "7fd167e0-7d7a-41bf-bc70-c1122cd91d67",
   "metadata": {},
   "outputs": [],
   "source": [
    "from src.populate_database import populate_database\n",
    "from src.query_data import query_data\n",
    "\n",
    "from langchain.prompts import ChatPromptTemplate"
   ]
  },
  {
   "cell_type": "code",
   "execution_count": 6,
   "id": "343f44a4-f2ed-4d90-9d02-197c5cc71692",
   "metadata": {},
   "outputs": [
    {
     "name": "stderr",
     "output_type": "stream",
     "text": [
      "/Users/mac/miniforge3/envs/langchain/lib/python3.12/site-packages/langchain_core/_api/deprecation.py:139: LangChainDeprecationWarning: The class `Chroma` was deprecated in LangChain 0.2.9 and will be removed in 0.4. An updated version of the class exists in the langchain-chroma package and should be used instead. To use it run `pip install -U langchain-chroma` and import as `from langchain_chroma import Chroma`.\n",
      "  warn_deprecated(\n"
     ]
    },
    {
     "name": "stdout",
     "output_type": "stream",
     "text": [
      "Number of existing documents in DB: 0\n",
      "👉 Adding new documents: 825\n"
     ]
    },
    {
     "name": "stderr",
     "output_type": "stream",
     "text": [
      "/Users/mac/miniforge3/envs/langchain/lib/python3.12/site-packages/langchain_core/_api/deprecation.py:139: LangChainDeprecationWarning: Since Chroma 0.4.x the manual persistence method is no longer supported as docs are automatically persisted.\n",
      "  warn_deprecated(\n"
     ]
    }
   ],
   "source": [
    "populate_database()"
   ]
  },
  {
   "cell_type": "code",
   "execution_count": 19,
   "id": "5a1f41ed-05a5-4e59-b4a2-fbf1a44f00e7",
   "metadata": {},
   "outputs": [],
   "source": [
    "PROMPT_TEMPLATE = \"\"\"\n",
    "Are the following sentences part of the same paragraph?\n",
    "Sentence 1: {sentence_1}\n",
    "\n",
    "Sentence 2: {sentence_2}\n",
    "\n",
    "If they are, output \"True\". If they are not, output \"False\"\n",
    "\"\"\""
   ]
  },
  {
   "cell_type": "code",
   "execution_count": 20,
   "id": "53e3a6d5-1b67-486d-b1dc-dcc37ca81b08",
   "metadata": {},
   "outputs": [],
   "source": [
    "prompt_template = ChatPromptTemplate.from_template(PROMPT_TEMPLATE)"
   ]
  },
  {
   "cell_type": "code",
   "execution_count": 21,
   "id": "4ad54181-4cd6-4d4d-a98d-75db23e2aabf",
   "metadata": {},
   "outputs": [
    {
     "name": "stdout",
     "output_type": "stream",
     "text": [
      "Response:  True\n",
      "Sources: ['../data/choi/1/3-11/12.ref:1:1', '../data/choi/1/3-11/6.ref:31:7', '../data/choi/1/3-11/46.ref:23:3', '../data/choi/1/3-11/47.ref:22:0', '../data/choi/1/3-11/47.ref:22:11']\n"
     ]
    }
   ],
   "source": [
    "# answer should be false\n",
    "sentence_1 = \"Behind this reply , and its many variations , is the ever-present budget problem all libraries must face , from the largest to the smallest .\"\n",
    "sentence_2 = \"the three main categories of antisubmarine warfare operations are defense of shipping , defense of naval forces , and area defense.\"\n",
    "\n",
    "prompt = prompt_template.format(sentence_1=sentence_1, sentence_2=sentence_2)\n",
    "\n",
    "query_data(prompt)"
   ]
  },
  {
   "cell_type": "code",
   "execution_count": 22,
   "id": "73f87e89-4544-4cc7-a4f4-0d33dd26c115",
   "metadata": {},
   "outputs": [
    {
     "name": "stdout",
     "output_type": "stream",
     "text": [
      "Response:  True\n",
      "Sources: ['../data/choi/1/3-11/1.ref:21:17', '../data/choi/1/3-11/19.ref:42:9', '../data/choi/1/3-11/26.ref:36:1', '../data/choi/1/3-11/44.ref:17:3', '../data/choi/1/3-11/1.ref:21:16']\n"
     ]
    }
   ],
   "source": [
    "# answer should be True\n",
    "sentence_1 = \"This operation requires from 10 to 12 minutes .\"\n",
    "sentence_2 = \"During the rinsing operation the volume in the tubs gradually increases until overflow from the main drain begins .\"\n",
    "\n",
    "prompt = prompt_template.format(sentence_1=sentence_1, sentence_2=sentence_2)\n",
    "\n",
    "query_data(prompt)"
   ]
  },
  {
   "cell_type": "code",
   "execution_count": 23,
   "id": "cfbbae29-f71b-47ab-9ddc-18f7eb3641dc",
   "metadata": {},
   "outputs": [
    {
     "name": "stdout",
     "output_type": "stream",
     "text": [
      "Response:  False\n",
      "Sources: ['../data/choi/1/3-11/13.ref:2:13', '../data/choi/1/3-11/31.ref:41:12', '../data/choi/1/3-11/13.ref:2:12', '../data/choi/1/3-11/1.ref:21:2', '../data/choi/1/3-11/25.ref:40:14']\n"
     ]
    }
   ],
   "source": [
    "# answer should be False\n",
    "sentence_1 = \"But Mr. Kennedy had become convinced that a personal confrontation with Mr. Khrushchev might be the only way to prevent catastrophe .\"\n",
    "sentence_2 = \"Los Angeles in 1957 finally bowed to the skyscraper .\"\n",
    "\n",
    "prompt = prompt_template.format(sentence_1=sentence_1, sentence_2=sentence_2)\n",
    "\n",
    "query_data(prompt)"
   ]
  },
  {
   "cell_type": "code",
   "execution_count": 24,
   "id": "f3c5a8e1-11d7-45ee-b01e-ed482e974fb9",
   "metadata": {},
   "outputs": [
    {
     "name": "stdout",
     "output_type": "stream",
     "text": [
      "Response:  False\n",
      "Sources: ['../data/choi/1/3-11/22.ref:47:1', '../data/choi/1/3-11/22.ref:47:2', '../data/choi/1/3-11/23.ref:50:4', '../data/choi/1/3-11/14.ref:7:2', '../data/choi/1/3-11/44.ref:17:7']\n"
     ]
    }
   ],
   "source": [
    "# answer should be False\n",
    "sentence_1 = \"Mr. Wendell Jr. will be best man .\"\n",
    "sentence_2 = \"one characteristic distinguishes Boris Godunov , it is the consistency with which every person on the stage -- including the chorus -- comes alive in the music .\"\n",
    "\n",
    "prompt = prompt_template.format(sentence_1=sentence_1, sentence_2=sentence_2)\n",
    "\n",
    "query_data(prompt)"
   ]
  },
  {
   "cell_type": "code",
   "execution_count": 25,
   "id": "13f7f450-3228-433c-8409-20943b794562",
   "metadata": {},
   "outputs": [
    {
     "name": "stdout",
     "output_type": "stream",
     "text": [
      "Response:  False\n",
      "Sources: ['../data/choi/1/3-11/12.ref:1:8', '../data/choi/1/3-11/1.ref:21:12', '../data/choi/1/3-11/32.ref:35:0', '../data/choi/1/3-11/12.ref:1:3', '../data/choi/1/3-11/12.ref:1:5']\n"
     ]
    }
   ],
   "source": [
    "# answer should be False\n",
    "sentence_1 = \"Research at Fayette , Missouri on oxidation ponds has shown that the BOD in the treated effluent varied from 30 to 53 mg with loadings from 8 to 120 lb .\"\n",
    "sentence_2 = \": talking and listening Though President John F. Kennedy was primarily concerned with the crucial problems of Berlin and disarmament adviser McCloy 's unexpected report from Khrushchev , his new enthusiasm and reliance on personal diplomacy involved him in other key problems of U.S. foreign policy last week .\"\n",
    "\n",
    "prompt = prompt_template.format(sentence_1=sentence_1, sentence_2=sentence_2)\n",
    "\n",
    "query_data(prompt)"
   ]
  },
  {
   "cell_type": "code",
   "execution_count": 26,
   "id": "e5171f83-a9f5-44bf-927a-32864e63c75f",
   "metadata": {},
   "outputs": [
    {
     "name": "stdout",
     "output_type": "stream",
     "text": [
      "Response:  True\n",
      "Sources: ['../data/choi/1/3-11/19.ref:42:1', '../data/choi/1/3-11/44.ref:17:15', '../data/choi/1/3-11/7.ref:30:8', '../data/choi/1/3-11/41.ref:29:3', '../data/choi/1/3-11/19.ref:42:2']\n"
     ]
    }
   ],
   "source": [
    "# answer should be True\n",
    "sentence_1 = \"The Poynting-Robertson effect ( Robertson , 1937 ; ; Wyatt and Whipple , 1950 ) , which is a retardation of the orbital motion of particles by the relativistic aberration of the repulsive force of the impinging solar radiation , causes the dust to spiral into the sun in times much shorter than the age of the Earth .\"\n",
    "sentence_2 = \"The radial velocity varies inversely as the particle size -- a 1000-m-diameter particle near the orbit of Mars would reach the sun in about 60 million years .\"\n",
    "\n",
    "prompt = prompt_template.format(sentence_1=sentence_1, sentence_2=sentence_2)\n",
    "\n",
    "query_data(prompt)"
   ]
  },
  {
   "cell_type": "code",
   "execution_count": null,
   "id": "3feaa96a-de5d-4e56-b96d-1f16189973fb",
   "metadata": {},
   "outputs": [],
   "source": []
  }
 ],
 "metadata": {
  "kernelspec": {
   "display_name": "Python 3 (ipykernel)",
   "language": "python",
   "name": "python3"
  },
  "language_info": {
   "codemirror_mode": {
    "name": "ipython",
    "version": 3
   },
   "file_extension": ".py",
   "mimetype": "text/x-python",
   "name": "python",
   "nbconvert_exporter": "python",
   "pygments_lexer": "ipython3",
   "version": "3.10.14"
  }
 },
 "nbformat": 4,
 "nbformat_minor": 5
}
