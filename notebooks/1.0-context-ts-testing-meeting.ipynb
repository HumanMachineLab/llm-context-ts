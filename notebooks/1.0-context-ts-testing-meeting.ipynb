{
 "cells": [
  {
   "cell_type": "code",
   "execution_count": 1,
   "id": "ff6f651d-684b-472d-8b04-7d3768d7ed0b",
   "metadata": {},
   "outputs": [],
   "source": [
    "%load_ext autoreload\n",
    "%autoreload 2"
   ]
  },
  {
   "cell_type": "code",
   "execution_count": 2,
   "id": "2607f7e7-118c-4ec0-8a0a-395c90be2158",
   "metadata": {},
   "outputs": [],
   "source": [
    "import config\n",
    "import sys\n",
    "import os\n",
    "\n",
    "config.root_path = os.path.abspath(os.path.join(os.getcwd(), \"..\"))\n",
    "sys.path.insert(0, config.root_path)"
   ]
  },
  {
   "cell_type": "code",
   "execution_count": 3,
   "id": "71448b37-3eb7-47ba-983d-4637812b532d",
   "metadata": {},
   "outputs": [],
   "source": [
    "from db.dbv2 import Table, AugmentedTable, TrainTestTable\n",
    "from src.dataset.utils import truncate_by_token, flatten, dedupe_list, truncate_string"
   ]
  },
  {
   "cell_type": "markdown",
   "id": "9570b159-6c3f-4648-80ed-21eaddb9ddc3",
   "metadata": {},
   "source": [
    "### === Prepare Dataset ==="
   ]
  },
  {
   "cell_type": "code",
   "execution_count": 4,
   "id": "6f629b60-8760-407f-b2d9-717e873734f6",
   "metadata": {},
   "outputs": [],
   "source": [
    "num_sentences = 200\n",
    "offset = 500\n",
    "max_segment_length = 99"
   ]
  },
  {
   "cell_type": "code",
   "execution_count": 5,
   "id": "335dbb8c-8a8b-4d4b-bd97-14a88cc06a00",
   "metadata": {},
   "outputs": [],
   "source": [
    "def get_data(dataset_type: str):\n",
    "    table = Table(dataset_type)\n",
    "    \n",
    "    all_segments = table.get_all_segments()\n",
    "    \n",
    "    segments = [[y[1] for y in x][:max_segment_length] for x in all_segments]\n",
    "    segments_labels = [\n",
    "        [1 if i == 0 else 0 for i, y in enumerate(x)][:max_segment_length] for x in all_segments\n",
    "    ]\n",
    "    \n",
    "    flattened_segments = flatten(segments)\n",
    "    flattened_labels = flatten(segments_labels)\n",
    "    \n",
    "    segments_to_test = flattened_segments[offset:offset+num_sentences]\n",
    "    labels_to_test = flattened_labels[offset:offset+num_sentences]\n",
    "\n",
    "    return segments_to_test, labels_to_test"
   ]
  },
  {
   "cell_type": "markdown",
   "id": "58e4c028-623b-44c8-b820-acc9c944a85e",
   "metadata": {},
   "source": [
    "### === Testing ==="
   ]
  },
  {
   "cell_type": "code",
   "execution_count": 6,
   "id": "a47670fd-94ee-4938-9c24-45c4a217c49f",
   "metadata": {},
   "outputs": [],
   "source": [
    "from src.determinor import Determinor\n",
    "from nltk.metrics.segmentation import pk, windowdiff"
   ]
  },
  {
   "cell_type": "markdown",
   "id": "8e6870ca-c70c-4c80-a4dc-590a5069b7e2",
   "metadata": {},
   "source": [
    "Testing Ollama"
   ]
  },
  {
   "cell_type": "code",
   "execution_count": 11,
   "id": "fecd1bd7-8da6-4e73-87c5-dee70f2e5b66",
   "metadata": {},
   "outputs": [
    {
     "name": "stdout",
     "output_type": "stream",
     "text": [
      "Using dataset: qmsum_committee\n",
      "evaluating committee\n",
      ".............................................................................|.......|..................................................................................................................\n",
      "L: 00000000000000000000000000000000000000000100000000000000000001000000000000000000000000000000000000000000000000000000000000000000000000000000000000000000000000001000000000010000000000000000000000000000\n",
      "P: 00000000000000000000000000000000000000000000000000000000000000000000000000000100000001000000000000000000000000000000000000000000000000000000000000000000000000000000000000000000000000000000000000000000\n",
      "k: 2, pk: 0.06030150753768844, wd: 0.06030150753768844\n",
      "k: 3, pk: 0.09090909090909091, wd: 0.09090909090909091\n",
      "k: 4, pk: 0.1218274111675127, wd: 0.1218274111675127\n",
      "k: 5, pk: 0.15306122448979592, wd: 0.15306122448979592\n",
      "k: 6, pk: 0.18461538461538463, wd: 0.18461538461538463\n",
      "k: 7, pk: 0.21649484536082475, wd: 0.21649484536082475\n",
      "k: 10, pk: 0.3036649214659686, wd: 0.3036649214659686\n",
      "k: 14, pk: 0.40106951871657753, wd: 0.40106951871657753\n",
      "k: 20, pk: 0.5027624309392266, wd: 0.5027624309392266\n",
      "Using dataset: qmsum_academic\n",
      "evaluating academic\n",
      ".|.||........|............|.......................................................|.....|.............................|........................|.|.......|..............................................\n",
      "L: 00000000000000000000000100000000000000000000000000000000000000000000000000000000000000000000000000000000000000000000000000100000000000000000000000000000000000000000000000000000000000000000000000000000\n",
      "P: 01011000000001000000000000100000000000000000000000000000000000000000000000000000001000001000000000000000000000000000001000000000000000000000000101000000010000000000000000000000000000000000000000000000\n",
      "k: 2, pk: 0.12562814070351758, wd: 0.12562814070351758\n",
      "k: 3, pk: 0.1717171717171717, wd: 0.1717171717171717\n",
      "k: 4, pk: 0.20812182741116753, wd: 0.20812182741116753\n",
      "k: 5, pk: 0.23469387755102042, wd: 0.23469387755102042\n",
      "k: 6, pk: 0.26153846153846155, wd: 0.26153846153846155\n",
      "k: 7, pk: 0.28350515463917525, wd: 0.28350515463917525\n",
      "k: 10, pk: 0.33507853403141363, wd: 0.33507853403141363\n",
      "k: 14, pk: 0.34759358288770054, wd: 0.35294117647058826\n",
      "k: 20, pk: 0.39226519337016574, wd: 0.43646408839779005\n",
      "Using dataset: qmsum_product\n",
      "evaluating product\n",
      ".....|......................................||.|............|..........|...........................................................................|..........|.........................................\n",
      "L: 00000000000000000000000000000000000000000000001000000000000010000000000000000000000000000000000000000000000000000000000000000000000000000000000000010000000000000000000000000000000000000000000000000000\n",
      "P: 00000100000000000000000000000000000000000000110100000000000010000000000100000000000000000000000000000000000000000000000000000000000000000000000000010000000000100000000000000000000000000000000000000000\n",
      "k: 2, pk: 0.04522613065326633, wd: 0.04522613065326633\n",
      "k: 3, pk: 0.06060606060606061, wd: 0.0707070707070707\n",
      "k: 4, pk: 0.07614213197969544, wd: 0.09137055837563451\n",
      "k: 5, pk: 0.09183673469387756, wd: 0.11224489795918367\n",
      "k: 6, pk: 0.1076923076923077, wd: 0.13333333333333333\n",
      "k: 7, pk: 0.11855670103092783, wd: 0.14948453608247422\n",
      "k: 10, pk: 0.1518324607329843, wd: 0.19895287958115182\n",
      "k: 14, pk: 0.16042780748663102, wd: 0.26737967914438504\n",
      "k: 20, pk: 0.16574585635359115, wd: 0.3756906077348066\n"
     ]
    }
   ],
   "source": [
    "# for dataset_type in [\"choi_3_5\", \"choi_3_11\", \"choi_9_11\", \"choi_6_8\", \"city\", \"disease\", \"manifesto\"]:\n",
    "for dataset_type in [\"committee\", \"academic\", \"product\"]:\n",
    "# for dataset_type in [\"choi_3_5\", \"choi_3_11\", \"choi_9_11\", \"choi_6_8\"]:\n",
    "# for dataset_type in [\"city\", \"disease\"]:\n",
    "# for dataset_type in [\"wiki50k\"]:\n",
    "# for dataset_type in [\"manifesto\"]:\n",
    "    segments, labels = get_data(dataset_type)\n",
    "\n",
    "    print(f\"evaluating {dataset_type}\")\n",
    "    determinor = Determinor(max_context_window=5, meeting_dataset=True)\n",
    "    predictions = determinor.query_batch_data(segments)\n",
    "\n",
    "    preds = [0 if p == True else 1 for p in predictions]\n",
    "\n",
    "    str_labels = ''.join([str(x) for x in labels])\n",
    "    str_predictions = ''.join([str(x) for x in preds])\n",
    "    print()\n",
    "    print(f\"L: {str_labels}\")\n",
    "    print(f\"P: {str_predictions}\")\n",
    "\n",
    "    for k in [2,3,4,5,6,7,10,14,20]:\n",
    "        print(f\"k: {k}, pk: {pk(str_labels, str_predictions, k=k)}, wd: {windowdiff(str_labels, str_predictions, k=k)}\")"
   ]
  },
  {
   "cell_type": "markdown",
   "id": "dfdfa840-151b-4603-a04c-b2fc3a40980d",
   "metadata": {},
   "source": [
    "deepseek"
   ]
  },
  {
   "cell_type": "code",
   "execution_count": 33,
   "id": "d47b3039-5b2f-45b4-b76f-944e1c1a8827",
   "metadata": {},
   "outputs": [
    {
     "name": "stdout",
     "output_type": "stream",
     "text": [
      "Using dataset: qmsum_committee\n",
      "evaluating committee\n",
      "........|.......||................"
     ]
    },
    {
     "ename": "KeyboardInterrupt",
     "evalue": "",
     "output_type": "error",
     "traceback": [
      "\u001b[0;31m---------------------------------------------------------------------------\u001b[0m",
      "\u001b[0;31mKeyboardInterrupt\u001b[0m                         Traceback (most recent call last)",
      "Cell \u001b[0;32mIn[33], line 6\u001b[0m\n\u001b[1;32m      4\u001b[0m \u001b[38;5;28mprint\u001b[39m(\u001b[38;5;124mf\u001b[39m\u001b[38;5;124m\"\u001b[39m\u001b[38;5;124mevaluating \u001b[39m\u001b[38;5;132;01m{\u001b[39;00mdataset_type\u001b[38;5;132;01m}\u001b[39;00m\u001b[38;5;124m\"\u001b[39m)\n\u001b[1;32m      5\u001b[0m determinor \u001b[38;5;241m=\u001b[39m Determinor(max_context_window\u001b[38;5;241m=\u001b[39m\u001b[38;5;241m5\u001b[39m, meeting_dataset\u001b[38;5;241m=\u001b[39m\u001b[38;5;28;01mTrue\u001b[39;00m, deepseek\u001b[38;5;241m=\u001b[39m\u001b[38;5;28;01mTrue\u001b[39;00m)\n\u001b[0;32m----> 6\u001b[0m predictions \u001b[38;5;241m=\u001b[39m \u001b[43mdeterminor\u001b[49m\u001b[38;5;241;43m.\u001b[39;49m\u001b[43mquery_batch_data\u001b[49m\u001b[43m(\u001b[49m\u001b[43msegments\u001b[49m\u001b[43m)\u001b[49m\n\u001b[1;32m      8\u001b[0m preds \u001b[38;5;241m=\u001b[39m [\u001b[38;5;241m0\u001b[39m \u001b[38;5;28;01mif\u001b[39;00m p \u001b[38;5;241m==\u001b[39m \u001b[38;5;28;01mTrue\u001b[39;00m \u001b[38;5;28;01melse\u001b[39;00m \u001b[38;5;241m1\u001b[39m \u001b[38;5;28;01mfor\u001b[39;00m p \u001b[38;5;129;01min\u001b[39;00m predictions]\n\u001b[1;32m     10\u001b[0m str_labels \u001b[38;5;241m=\u001b[39m \u001b[38;5;124m'\u001b[39m\u001b[38;5;124m'\u001b[39m\u001b[38;5;241m.\u001b[39mjoin([\u001b[38;5;28mstr\u001b[39m(x) \u001b[38;5;28;01mfor\u001b[39;00m x \u001b[38;5;129;01min\u001b[39;00m labels])\n",
      "File \u001b[0;32m~/Documents/PhD/LLM TS/langchain-context-ts/src/determinor.py:61\u001b[0m, in \u001b[0;36mquery_batch_data\u001b[0;34m(self, sentences)\u001b[0m\n\u001b[1;32m      0\u001b[0m <Error retrieving source code with stack_data see ipython/ipython#13598>\n",
      "File \u001b[0;32m~/Documents/PhD/LLM TS/langchain-context-ts/src/determinor.py:78\u001b[0m, in \u001b[0;36mquery\u001b[0;34m(self, sentence)\u001b[0m\n\u001b[1;32m      0\u001b[0m <Error retrieving source code with stack_data see ipython/ipython#13598>\n",
      "File \u001b[0;32m/opt/anaconda3/envs/phd/lib/python3.10/site-packages/langchain_core/language_models/llms.py:385\u001b[0m, in \u001b[0;36mBaseLLM.invoke\u001b[0;34m(self, input, config, stop, **kwargs)\u001b[0m\n\u001b[1;32m    375\u001b[0m \u001b[38;5;28;01mdef\u001b[39;00m \u001b[38;5;21minvoke\u001b[39m(\n\u001b[1;32m    376\u001b[0m     \u001b[38;5;28mself\u001b[39m,\n\u001b[1;32m    377\u001b[0m     \u001b[38;5;28minput\u001b[39m: LanguageModelInput,\n\u001b[0;32m   (...)\u001b[0m\n\u001b[1;32m    381\u001b[0m     \u001b[38;5;241m*\u001b[39m\u001b[38;5;241m*\u001b[39mkwargs: Any,\n\u001b[1;32m    382\u001b[0m ) \u001b[38;5;241m-\u001b[39m\u001b[38;5;241m>\u001b[39m \u001b[38;5;28mstr\u001b[39m:\n\u001b[1;32m    383\u001b[0m     config \u001b[38;5;241m=\u001b[39m ensure_config(config)\n\u001b[1;32m    384\u001b[0m     \u001b[38;5;28;01mreturn\u001b[39;00m (\n\u001b[0;32m--> 385\u001b[0m         \u001b[38;5;28;43mself\u001b[39;49m\u001b[38;5;241;43m.\u001b[39;49m\u001b[43mgenerate_prompt\u001b[49m\u001b[43m(\u001b[49m\n\u001b[1;32m    386\u001b[0m \u001b[43m            \u001b[49m\u001b[43m[\u001b[49m\u001b[38;5;28;43mself\u001b[39;49m\u001b[38;5;241;43m.\u001b[39;49m\u001b[43m_convert_input\u001b[49m\u001b[43m(\u001b[49m\u001b[38;5;28;43minput\u001b[39;49m\u001b[43m)\u001b[49m\u001b[43m]\u001b[49m\u001b[43m,\u001b[49m\n\u001b[1;32m    387\u001b[0m \u001b[43m            \u001b[49m\u001b[43mstop\u001b[49m\u001b[38;5;241;43m=\u001b[39;49m\u001b[43mstop\u001b[49m\u001b[43m,\u001b[49m\n\u001b[1;32m    388\u001b[0m \u001b[43m            \u001b[49m\u001b[43mcallbacks\u001b[49m\u001b[38;5;241;43m=\u001b[39;49m\u001b[43mconfig\u001b[49m\u001b[38;5;241;43m.\u001b[39;49m\u001b[43mget\u001b[49m\u001b[43m(\u001b[49m\u001b[38;5;124;43m\"\u001b[39;49m\u001b[38;5;124;43mcallbacks\u001b[39;49m\u001b[38;5;124;43m\"\u001b[39;49m\u001b[43m)\u001b[49m\u001b[43m,\u001b[49m\n\u001b[1;32m    389\u001b[0m \u001b[43m            \u001b[49m\u001b[43mtags\u001b[49m\u001b[38;5;241;43m=\u001b[39;49m\u001b[43mconfig\u001b[49m\u001b[38;5;241;43m.\u001b[39;49m\u001b[43mget\u001b[49m\u001b[43m(\u001b[49m\u001b[38;5;124;43m\"\u001b[39;49m\u001b[38;5;124;43mtags\u001b[39;49m\u001b[38;5;124;43m\"\u001b[39;49m\u001b[43m)\u001b[49m\u001b[43m,\u001b[49m\n\u001b[1;32m    390\u001b[0m \u001b[43m            \u001b[49m\u001b[43mmetadata\u001b[49m\u001b[38;5;241;43m=\u001b[39;49m\u001b[43mconfig\u001b[49m\u001b[38;5;241;43m.\u001b[39;49m\u001b[43mget\u001b[49m\u001b[43m(\u001b[49m\u001b[38;5;124;43m\"\u001b[39;49m\u001b[38;5;124;43mmetadata\u001b[39;49m\u001b[38;5;124;43m\"\u001b[39;49m\u001b[43m)\u001b[49m\u001b[43m,\u001b[49m\n\u001b[1;32m    391\u001b[0m \u001b[43m            \u001b[49m\u001b[43mrun_name\u001b[49m\u001b[38;5;241;43m=\u001b[39;49m\u001b[43mconfig\u001b[49m\u001b[38;5;241;43m.\u001b[39;49m\u001b[43mget\u001b[49m\u001b[43m(\u001b[49m\u001b[38;5;124;43m\"\u001b[39;49m\u001b[38;5;124;43mrun_name\u001b[39;49m\u001b[38;5;124;43m\"\u001b[39;49m\u001b[43m)\u001b[49m\u001b[43m,\u001b[49m\n\u001b[1;32m    392\u001b[0m \u001b[43m            \u001b[49m\u001b[43mrun_id\u001b[49m\u001b[38;5;241;43m=\u001b[39;49m\u001b[43mconfig\u001b[49m\u001b[38;5;241;43m.\u001b[39;49m\u001b[43mpop\u001b[49m\u001b[43m(\u001b[49m\u001b[38;5;124;43m\"\u001b[39;49m\u001b[38;5;124;43mrun_id\u001b[39;49m\u001b[38;5;124;43m\"\u001b[39;49m\u001b[43m,\u001b[49m\u001b[43m \u001b[49m\u001b[38;5;28;43;01mNone\u001b[39;49;00m\u001b[43m)\u001b[49m\u001b[43m,\u001b[49m\n\u001b[1;32m    393\u001b[0m \u001b[43m            \u001b[49m\u001b[38;5;241;43m*\u001b[39;49m\u001b[38;5;241;43m*\u001b[39;49m\u001b[43mkwargs\u001b[49m\u001b[43m,\u001b[49m\n\u001b[1;32m    394\u001b[0m \u001b[43m        \u001b[49m\u001b[43m)\u001b[49m\n\u001b[1;32m    395\u001b[0m         \u001b[38;5;241m.\u001b[39mgenerations[\u001b[38;5;241m0\u001b[39m][\u001b[38;5;241m0\u001b[39m]\n\u001b[1;32m    396\u001b[0m         \u001b[38;5;241m.\u001b[39mtext\n\u001b[1;32m    397\u001b[0m     )\n",
      "File \u001b[0;32m/opt/anaconda3/envs/phd/lib/python3.10/site-packages/langchain_core/language_models/llms.py:750\u001b[0m, in \u001b[0;36mBaseLLM.generate_prompt\u001b[0;34m(self, prompts, stop, callbacks, **kwargs)\u001b[0m\n\u001b[1;32m    742\u001b[0m \u001b[38;5;28;01mdef\u001b[39;00m \u001b[38;5;21mgenerate_prompt\u001b[39m(\n\u001b[1;32m    743\u001b[0m     \u001b[38;5;28mself\u001b[39m,\n\u001b[1;32m    744\u001b[0m     prompts: List[PromptValue],\n\u001b[0;32m   (...)\u001b[0m\n\u001b[1;32m    747\u001b[0m     \u001b[38;5;241m*\u001b[39m\u001b[38;5;241m*\u001b[39mkwargs: Any,\n\u001b[1;32m    748\u001b[0m ) \u001b[38;5;241m-\u001b[39m\u001b[38;5;241m>\u001b[39m LLMResult:\n\u001b[1;32m    749\u001b[0m     prompt_strings \u001b[38;5;241m=\u001b[39m [p\u001b[38;5;241m.\u001b[39mto_string() \u001b[38;5;28;01mfor\u001b[39;00m p \u001b[38;5;129;01min\u001b[39;00m prompts]\n\u001b[0;32m--> 750\u001b[0m     \u001b[38;5;28;01mreturn\u001b[39;00m \u001b[38;5;28;43mself\u001b[39;49m\u001b[38;5;241;43m.\u001b[39;49m\u001b[43mgenerate\u001b[49m\u001b[43m(\u001b[49m\u001b[43mprompt_strings\u001b[49m\u001b[43m,\u001b[49m\u001b[43m \u001b[49m\u001b[43mstop\u001b[49m\u001b[38;5;241;43m=\u001b[39;49m\u001b[43mstop\u001b[49m\u001b[43m,\u001b[49m\u001b[43m \u001b[49m\u001b[43mcallbacks\u001b[49m\u001b[38;5;241;43m=\u001b[39;49m\u001b[43mcallbacks\u001b[49m\u001b[43m,\u001b[49m\u001b[43m \u001b[49m\u001b[38;5;241;43m*\u001b[39;49m\u001b[38;5;241;43m*\u001b[39;49m\u001b[43mkwargs\u001b[49m\u001b[43m)\u001b[49m\n",
      "File \u001b[0;32m/opt/anaconda3/envs/phd/lib/python3.10/site-packages/langchain_core/language_models/llms.py:944\u001b[0m, in \u001b[0;36mBaseLLM.generate\u001b[0;34m(self, prompts, stop, callbacks, tags, metadata, run_name, run_id, **kwargs)\u001b[0m\n\u001b[1;32m    929\u001b[0m \u001b[38;5;28;01mif\u001b[39;00m (\u001b[38;5;28mself\u001b[39m\u001b[38;5;241m.\u001b[39mcache \u001b[38;5;129;01mis\u001b[39;00m \u001b[38;5;28;01mNone\u001b[39;00m \u001b[38;5;129;01mand\u001b[39;00m get_llm_cache() \u001b[38;5;129;01mis\u001b[39;00m \u001b[38;5;28;01mNone\u001b[39;00m) \u001b[38;5;129;01mor\u001b[39;00m \u001b[38;5;28mself\u001b[39m\u001b[38;5;241m.\u001b[39mcache \u001b[38;5;129;01mis\u001b[39;00m \u001b[38;5;28;01mFalse\u001b[39;00m:\n\u001b[1;32m    930\u001b[0m     run_managers \u001b[38;5;241m=\u001b[39m [\n\u001b[1;32m    931\u001b[0m         callback_manager\u001b[38;5;241m.\u001b[39mon_llm_start(\n\u001b[1;32m    932\u001b[0m             dumpd(\u001b[38;5;28mself\u001b[39m),\n\u001b[0;32m   (...)\u001b[0m\n\u001b[1;32m    942\u001b[0m         )\n\u001b[1;32m    943\u001b[0m     ]\n\u001b[0;32m--> 944\u001b[0m     output \u001b[38;5;241m=\u001b[39m \u001b[38;5;28;43mself\u001b[39;49m\u001b[38;5;241;43m.\u001b[39;49m\u001b[43m_generate_helper\u001b[49m\u001b[43m(\u001b[49m\n\u001b[1;32m    945\u001b[0m \u001b[43m        \u001b[49m\u001b[43mprompts\u001b[49m\u001b[43m,\u001b[49m\u001b[43m \u001b[49m\u001b[43mstop\u001b[49m\u001b[43m,\u001b[49m\u001b[43m \u001b[49m\u001b[43mrun_managers\u001b[49m\u001b[43m,\u001b[49m\u001b[43m \u001b[49m\u001b[38;5;28;43mbool\u001b[39;49m\u001b[43m(\u001b[49m\u001b[43mnew_arg_supported\u001b[49m\u001b[43m)\u001b[49m\u001b[43m,\u001b[49m\u001b[43m \u001b[49m\u001b[38;5;241;43m*\u001b[39;49m\u001b[38;5;241;43m*\u001b[39;49m\u001b[43mkwargs\u001b[49m\n\u001b[1;32m    946\u001b[0m \u001b[43m    \u001b[49m\u001b[43m)\u001b[49m\n\u001b[1;32m    947\u001b[0m     \u001b[38;5;28;01mreturn\u001b[39;00m output\n\u001b[1;32m    948\u001b[0m \u001b[38;5;28;01mif\u001b[39;00m \u001b[38;5;28mlen\u001b[39m(missing_prompts) \u001b[38;5;241m>\u001b[39m \u001b[38;5;241m0\u001b[39m:\n",
      "File \u001b[0;32m/opt/anaconda3/envs/phd/lib/python3.10/site-packages/langchain_core/language_models/llms.py:787\u001b[0m, in \u001b[0;36mBaseLLM._generate_helper\u001b[0;34m(self, prompts, stop, run_managers, new_arg_supported, **kwargs)\u001b[0m\n\u001b[1;32m    785\u001b[0m     \u001b[38;5;28;01mfor\u001b[39;00m run_manager \u001b[38;5;129;01min\u001b[39;00m run_managers:\n\u001b[1;32m    786\u001b[0m         run_manager\u001b[38;5;241m.\u001b[39mon_llm_error(e, response\u001b[38;5;241m=\u001b[39mLLMResult(generations\u001b[38;5;241m=\u001b[39m[]))\n\u001b[0;32m--> 787\u001b[0m     \u001b[38;5;28;01mraise\u001b[39;00m e\n\u001b[1;32m    788\u001b[0m flattened_outputs \u001b[38;5;241m=\u001b[39m output\u001b[38;5;241m.\u001b[39mflatten()\n\u001b[1;32m    789\u001b[0m \u001b[38;5;28;01mfor\u001b[39;00m manager, flattened_output \u001b[38;5;129;01min\u001b[39;00m \u001b[38;5;28mzip\u001b[39m(run_managers, flattened_outputs):\n",
      "File \u001b[0;32m/opt/anaconda3/envs/phd/lib/python3.10/site-packages/langchain_core/language_models/llms.py:774\u001b[0m, in \u001b[0;36mBaseLLM._generate_helper\u001b[0;34m(self, prompts, stop, run_managers, new_arg_supported, **kwargs)\u001b[0m\n\u001b[1;32m    764\u001b[0m \u001b[38;5;28;01mdef\u001b[39;00m \u001b[38;5;21m_generate_helper\u001b[39m(\n\u001b[1;32m    765\u001b[0m     \u001b[38;5;28mself\u001b[39m,\n\u001b[1;32m    766\u001b[0m     prompts: List[\u001b[38;5;28mstr\u001b[39m],\n\u001b[0;32m   (...)\u001b[0m\n\u001b[1;32m    770\u001b[0m     \u001b[38;5;241m*\u001b[39m\u001b[38;5;241m*\u001b[39mkwargs: Any,\n\u001b[1;32m    771\u001b[0m ) \u001b[38;5;241m-\u001b[39m\u001b[38;5;241m>\u001b[39m LLMResult:\n\u001b[1;32m    772\u001b[0m     \u001b[38;5;28;01mtry\u001b[39;00m:\n\u001b[1;32m    773\u001b[0m         output \u001b[38;5;241m=\u001b[39m (\n\u001b[0;32m--> 774\u001b[0m             \u001b[38;5;28;43mself\u001b[39;49m\u001b[38;5;241;43m.\u001b[39;49m\u001b[43m_generate\u001b[49m\u001b[43m(\u001b[49m\n\u001b[1;32m    775\u001b[0m \u001b[43m                \u001b[49m\u001b[43mprompts\u001b[49m\u001b[43m,\u001b[49m\n\u001b[1;32m    776\u001b[0m \u001b[43m                \u001b[49m\u001b[43mstop\u001b[49m\u001b[38;5;241;43m=\u001b[39;49m\u001b[43mstop\u001b[49m\u001b[43m,\u001b[49m\n\u001b[1;32m    777\u001b[0m \u001b[43m                \u001b[49m\u001b[38;5;66;43;03m# TODO: support multiple run managers\u001b[39;49;00m\n\u001b[1;32m    778\u001b[0m \u001b[43m                \u001b[49m\u001b[43mrun_manager\u001b[49m\u001b[38;5;241;43m=\u001b[39;49m\u001b[43mrun_managers\u001b[49m\u001b[43m[\u001b[49m\u001b[38;5;241;43m0\u001b[39;49m\u001b[43m]\u001b[49m\u001b[43m \u001b[49m\u001b[38;5;28;43;01mif\u001b[39;49;00m\u001b[43m \u001b[49m\u001b[43mrun_managers\u001b[49m\u001b[43m \u001b[49m\u001b[38;5;28;43;01melse\u001b[39;49;00m\u001b[43m \u001b[49m\u001b[38;5;28;43;01mNone\u001b[39;49;00m\u001b[43m,\u001b[49m\n\u001b[1;32m    779\u001b[0m \u001b[43m                \u001b[49m\u001b[38;5;241;43m*\u001b[39;49m\u001b[38;5;241;43m*\u001b[39;49m\u001b[43mkwargs\u001b[49m\u001b[43m,\u001b[49m\n\u001b[1;32m    780\u001b[0m \u001b[43m            \u001b[49m\u001b[43m)\u001b[49m\n\u001b[1;32m    781\u001b[0m             \u001b[38;5;28;01mif\u001b[39;00m new_arg_supported\n\u001b[1;32m    782\u001b[0m             \u001b[38;5;28;01melse\u001b[39;00m \u001b[38;5;28mself\u001b[39m\u001b[38;5;241m.\u001b[39m_generate(prompts, stop\u001b[38;5;241m=\u001b[39mstop)\n\u001b[1;32m    783\u001b[0m         )\n\u001b[1;32m    784\u001b[0m     \u001b[38;5;28;01mexcept\u001b[39;00m \u001b[38;5;167;01mBaseException\u001b[39;00m \u001b[38;5;28;01mas\u001b[39;00m e:\n\u001b[1;32m    785\u001b[0m         \u001b[38;5;28;01mfor\u001b[39;00m run_manager \u001b[38;5;129;01min\u001b[39;00m run_managers:\n",
      "File \u001b[0;32m/opt/anaconda3/envs/phd/lib/python3.10/site-packages/langchain_community/llms/ollama.py:429\u001b[0m, in \u001b[0;36mOllama._generate\u001b[0;34m(self, prompts, stop, images, run_manager, **kwargs)\u001b[0m\n\u001b[1;32m    427\u001b[0m generations \u001b[38;5;241m=\u001b[39m []\n\u001b[1;32m    428\u001b[0m \u001b[38;5;28;01mfor\u001b[39;00m prompt \u001b[38;5;129;01min\u001b[39;00m prompts:\n\u001b[0;32m--> 429\u001b[0m     final_chunk \u001b[38;5;241m=\u001b[39m \u001b[38;5;28;43msuper\u001b[39;49m\u001b[43m(\u001b[49m\u001b[43m)\u001b[49m\u001b[38;5;241;43m.\u001b[39;49m\u001b[43m_stream_with_aggregation\u001b[49m\u001b[43m(\u001b[49m\n\u001b[1;32m    430\u001b[0m \u001b[43m        \u001b[49m\u001b[43mprompt\u001b[49m\u001b[43m,\u001b[49m\n\u001b[1;32m    431\u001b[0m \u001b[43m        \u001b[49m\u001b[43mstop\u001b[49m\u001b[38;5;241;43m=\u001b[39;49m\u001b[43mstop\u001b[49m\u001b[43m,\u001b[49m\n\u001b[1;32m    432\u001b[0m \u001b[43m        \u001b[49m\u001b[43mimages\u001b[49m\u001b[38;5;241;43m=\u001b[39;49m\u001b[43mimages\u001b[49m\u001b[43m,\u001b[49m\n\u001b[1;32m    433\u001b[0m \u001b[43m        \u001b[49m\u001b[43mrun_manager\u001b[49m\u001b[38;5;241;43m=\u001b[39;49m\u001b[43mrun_manager\u001b[49m\u001b[43m,\u001b[49m\n\u001b[1;32m    434\u001b[0m \u001b[43m        \u001b[49m\u001b[43mverbose\u001b[49m\u001b[38;5;241;43m=\u001b[39;49m\u001b[38;5;28;43mself\u001b[39;49m\u001b[38;5;241;43m.\u001b[39;49m\u001b[43mverbose\u001b[49m\u001b[43m,\u001b[49m\n\u001b[1;32m    435\u001b[0m \u001b[43m        \u001b[49m\u001b[38;5;241;43m*\u001b[39;49m\u001b[38;5;241;43m*\u001b[39;49m\u001b[43mkwargs\u001b[49m\u001b[43m,\u001b[49m\n\u001b[1;32m    436\u001b[0m \u001b[43m    \u001b[49m\u001b[43m)\u001b[49m\n\u001b[1;32m    437\u001b[0m     generations\u001b[38;5;241m.\u001b[39mappend([final_chunk])\n\u001b[1;32m    438\u001b[0m \u001b[38;5;28;01mreturn\u001b[39;00m LLMResult(generations\u001b[38;5;241m=\u001b[39mgenerations)\n",
      "File \u001b[0;32m/opt/anaconda3/envs/phd/lib/python3.10/site-packages/langchain_community/llms/ollama.py:347\u001b[0m, in \u001b[0;36m_OllamaCommon._stream_with_aggregation\u001b[0;34m(self, prompt, stop, run_manager, verbose, **kwargs)\u001b[0m\n\u001b[1;32m    338\u001b[0m \u001b[38;5;28;01mdef\u001b[39;00m \u001b[38;5;21m_stream_with_aggregation\u001b[39m(\n\u001b[1;32m    339\u001b[0m     \u001b[38;5;28mself\u001b[39m,\n\u001b[1;32m    340\u001b[0m     prompt: \u001b[38;5;28mstr\u001b[39m,\n\u001b[0;32m   (...)\u001b[0m\n\u001b[1;32m    344\u001b[0m     \u001b[38;5;241m*\u001b[39m\u001b[38;5;241m*\u001b[39mkwargs: Any,\n\u001b[1;32m    345\u001b[0m ) \u001b[38;5;241m-\u001b[39m\u001b[38;5;241m>\u001b[39m GenerationChunk:\n\u001b[1;32m    346\u001b[0m     final_chunk: Optional[GenerationChunk] \u001b[38;5;241m=\u001b[39m \u001b[38;5;28;01mNone\u001b[39;00m\n\u001b[0;32m--> 347\u001b[0m     \u001b[38;5;28;01mfor\u001b[39;00m stream_resp \u001b[38;5;129;01min\u001b[39;00m \u001b[38;5;28mself\u001b[39m\u001b[38;5;241m.\u001b[39m_create_generate_stream(prompt, stop, \u001b[38;5;241m*\u001b[39m\u001b[38;5;241m*\u001b[39mkwargs):\n\u001b[1;32m    348\u001b[0m         \u001b[38;5;28;01mif\u001b[39;00m stream_resp:\n\u001b[1;32m    349\u001b[0m             chunk \u001b[38;5;241m=\u001b[39m _stream_response_to_generation_chunk(stream_resp)\n",
      "File \u001b[0;32m/opt/anaconda3/envs/phd/lib/python3.10/site-packages/langchain_community/llms/ollama.py:192\u001b[0m, in \u001b[0;36m_OllamaCommon._create_generate_stream\u001b[0;34m(self, prompt, stop, images, **kwargs)\u001b[0m\n\u001b[1;32m    184\u001b[0m \u001b[38;5;28;01mdef\u001b[39;00m \u001b[38;5;21m_create_generate_stream\u001b[39m(\n\u001b[1;32m    185\u001b[0m     \u001b[38;5;28mself\u001b[39m,\n\u001b[1;32m    186\u001b[0m     prompt: \u001b[38;5;28mstr\u001b[39m,\n\u001b[0;32m   (...)\u001b[0m\n\u001b[1;32m    189\u001b[0m     \u001b[38;5;241m*\u001b[39m\u001b[38;5;241m*\u001b[39mkwargs: Any,\n\u001b[1;32m    190\u001b[0m ) \u001b[38;5;241m-\u001b[39m\u001b[38;5;241m>\u001b[39m Iterator[\u001b[38;5;28mstr\u001b[39m]:\n\u001b[1;32m    191\u001b[0m     payload \u001b[38;5;241m=\u001b[39m {\u001b[38;5;124m\"\u001b[39m\u001b[38;5;124mprompt\u001b[39m\u001b[38;5;124m\"\u001b[39m: prompt, \u001b[38;5;124m\"\u001b[39m\u001b[38;5;124mimages\u001b[39m\u001b[38;5;124m\"\u001b[39m: images}\n\u001b[0;32m--> 192\u001b[0m     \u001b[38;5;28;01myield from\u001b[39;00m \u001b[38;5;28mself\u001b[39m\u001b[38;5;241m.\u001b[39m_create_stream(\n\u001b[1;32m    193\u001b[0m         payload\u001b[38;5;241m=\u001b[39mpayload,\n\u001b[1;32m    194\u001b[0m         stop\u001b[38;5;241m=\u001b[39mstop,\n\u001b[1;32m    195\u001b[0m         api_url\u001b[38;5;241m=\u001b[39m\u001b[38;5;124mf\u001b[39m\u001b[38;5;124m\"\u001b[39m\u001b[38;5;132;01m{\u001b[39;00m\u001b[38;5;28mself\u001b[39m\u001b[38;5;241m.\u001b[39mbase_url\u001b[38;5;132;01m}\u001b[39;00m\u001b[38;5;124m/api/generate\u001b[39m\u001b[38;5;124m\"\u001b[39m,\n\u001b[1;32m    196\u001b[0m         \u001b[38;5;241m*\u001b[39m\u001b[38;5;241m*\u001b[39mkwargs,\n\u001b[1;32m    197\u001b[0m     )\n",
      "File \u001b[0;32m/opt/anaconda3/envs/phd/lib/python3.10/site-packages/requests/models.py:869\u001b[0m, in \u001b[0;36mResponse.iter_lines\u001b[0;34m(self, chunk_size, decode_unicode, delimiter)\u001b[0m\n\u001b[1;32m    860\u001b[0m \u001b[38;5;250m\u001b[39m\u001b[38;5;124;03m\"\"\"Iterates over the response data, one line at a time.  When\u001b[39;00m\n\u001b[1;32m    861\u001b[0m \u001b[38;5;124;03mstream=True is set on the request, this avoids reading the\u001b[39;00m\n\u001b[1;32m    862\u001b[0m \u001b[38;5;124;03mcontent at once into memory for large responses.\u001b[39;00m\n\u001b[1;32m    863\u001b[0m \n\u001b[1;32m    864\u001b[0m \u001b[38;5;124;03m.. note:: This method is not reentrant safe.\u001b[39;00m\n\u001b[1;32m    865\u001b[0m \u001b[38;5;124;03m\"\"\"\u001b[39;00m\n\u001b[1;32m    867\u001b[0m pending \u001b[38;5;241m=\u001b[39m \u001b[38;5;28;01mNone\u001b[39;00m\n\u001b[0;32m--> 869\u001b[0m \u001b[38;5;28;01mfor\u001b[39;00m chunk \u001b[38;5;129;01min\u001b[39;00m \u001b[38;5;28mself\u001b[39m\u001b[38;5;241m.\u001b[39miter_content(\n\u001b[1;32m    870\u001b[0m     chunk_size\u001b[38;5;241m=\u001b[39mchunk_size, decode_unicode\u001b[38;5;241m=\u001b[39mdecode_unicode\n\u001b[1;32m    871\u001b[0m ):\n\u001b[1;32m    872\u001b[0m     \u001b[38;5;28;01mif\u001b[39;00m pending \u001b[38;5;129;01mis\u001b[39;00m \u001b[38;5;129;01mnot\u001b[39;00m \u001b[38;5;28;01mNone\u001b[39;00m:\n\u001b[1;32m    873\u001b[0m         chunk \u001b[38;5;241m=\u001b[39m pending \u001b[38;5;241m+\u001b[39m chunk\n",
      "File \u001b[0;32m/opt/anaconda3/envs/phd/lib/python3.10/site-packages/requests/utils.py:572\u001b[0m, in \u001b[0;36mstream_decode_response_unicode\u001b[0;34m(iterator, r)\u001b[0m\n\u001b[1;32m    569\u001b[0m     \u001b[38;5;28;01mreturn\u001b[39;00m\n\u001b[1;32m    571\u001b[0m decoder \u001b[38;5;241m=\u001b[39m codecs\u001b[38;5;241m.\u001b[39mgetincrementaldecoder(r\u001b[38;5;241m.\u001b[39mencoding)(errors\u001b[38;5;241m=\u001b[39m\u001b[38;5;124m\"\u001b[39m\u001b[38;5;124mreplace\u001b[39m\u001b[38;5;124m\"\u001b[39m)\n\u001b[0;32m--> 572\u001b[0m \u001b[38;5;28;01mfor\u001b[39;00m chunk \u001b[38;5;129;01min\u001b[39;00m iterator:\n\u001b[1;32m    573\u001b[0m     rv \u001b[38;5;241m=\u001b[39m decoder\u001b[38;5;241m.\u001b[39mdecode(chunk)\n\u001b[1;32m    574\u001b[0m     \u001b[38;5;28;01mif\u001b[39;00m rv:\n",
      "File \u001b[0;32m/opt/anaconda3/envs/phd/lib/python3.10/site-packages/requests/models.py:820\u001b[0m, in \u001b[0;36mResponse.iter_content.<locals>.generate\u001b[0;34m()\u001b[0m\n\u001b[1;32m    818\u001b[0m \u001b[38;5;28;01mif\u001b[39;00m \u001b[38;5;28mhasattr\u001b[39m(\u001b[38;5;28mself\u001b[39m\u001b[38;5;241m.\u001b[39mraw, \u001b[38;5;124m\"\u001b[39m\u001b[38;5;124mstream\u001b[39m\u001b[38;5;124m\"\u001b[39m):\n\u001b[1;32m    819\u001b[0m     \u001b[38;5;28;01mtry\u001b[39;00m:\n\u001b[0;32m--> 820\u001b[0m         \u001b[38;5;28;01myield from\u001b[39;00m \u001b[38;5;28mself\u001b[39m\u001b[38;5;241m.\u001b[39mraw\u001b[38;5;241m.\u001b[39mstream(chunk_size, decode_content\u001b[38;5;241m=\u001b[39m\u001b[38;5;28;01mTrue\u001b[39;00m)\n\u001b[1;32m    821\u001b[0m     \u001b[38;5;28;01mexcept\u001b[39;00m ProtocolError \u001b[38;5;28;01mas\u001b[39;00m e:\n\u001b[1;32m    822\u001b[0m         \u001b[38;5;28;01mraise\u001b[39;00m ChunkedEncodingError(e)\n",
      "File \u001b[0;32m/opt/anaconda3/envs/phd/lib/python3.10/site-packages/urllib3/response.py:1057\u001b[0m, in \u001b[0;36mHTTPResponse.stream\u001b[0;34m(self, amt, decode_content)\u001b[0m\n\u001b[1;32m   1041\u001b[0m \u001b[38;5;250m\u001b[39m\u001b[38;5;124;03m\"\"\"\u001b[39;00m\n\u001b[1;32m   1042\u001b[0m \u001b[38;5;124;03mA generator wrapper for the read() method. A call will block until\u001b[39;00m\n\u001b[1;32m   1043\u001b[0m \u001b[38;5;124;03m``amt`` bytes have been read from the connection or until the\u001b[39;00m\n\u001b[0;32m   (...)\u001b[0m\n\u001b[1;32m   1054\u001b[0m \u001b[38;5;124;03m    'content-encoding' header.\u001b[39;00m\n\u001b[1;32m   1055\u001b[0m \u001b[38;5;124;03m\"\"\"\u001b[39;00m\n\u001b[1;32m   1056\u001b[0m \u001b[38;5;28;01mif\u001b[39;00m \u001b[38;5;28mself\u001b[39m\u001b[38;5;241m.\u001b[39mchunked \u001b[38;5;129;01mand\u001b[39;00m \u001b[38;5;28mself\u001b[39m\u001b[38;5;241m.\u001b[39msupports_chunked_reads():\n\u001b[0;32m-> 1057\u001b[0m     \u001b[38;5;28;01myield from\u001b[39;00m \u001b[38;5;28mself\u001b[39m\u001b[38;5;241m.\u001b[39mread_chunked(amt, decode_content\u001b[38;5;241m=\u001b[39mdecode_content)\n\u001b[1;32m   1058\u001b[0m \u001b[38;5;28;01melse\u001b[39;00m:\n\u001b[1;32m   1059\u001b[0m     \u001b[38;5;28;01mwhile\u001b[39;00m \u001b[38;5;129;01mnot\u001b[39;00m is_fp_closed(\u001b[38;5;28mself\u001b[39m\u001b[38;5;241m.\u001b[39m_fp) \u001b[38;5;129;01mor\u001b[39;00m \u001b[38;5;28mlen\u001b[39m(\u001b[38;5;28mself\u001b[39m\u001b[38;5;241m.\u001b[39m_decoded_buffer) \u001b[38;5;241m>\u001b[39m \u001b[38;5;241m0\u001b[39m:\n",
      "File \u001b[0;32m/opt/anaconda3/envs/phd/lib/python3.10/site-packages/urllib3/response.py:1206\u001b[0m, in \u001b[0;36mHTTPResponse.read_chunked\u001b[0;34m(self, amt, decode_content)\u001b[0m\n\u001b[1;32m   1203\u001b[0m     amt \u001b[38;5;241m=\u001b[39m \u001b[38;5;28;01mNone\u001b[39;00m\n\u001b[1;32m   1205\u001b[0m \u001b[38;5;28;01mwhile\u001b[39;00m \u001b[38;5;28;01mTrue\u001b[39;00m:\n\u001b[0;32m-> 1206\u001b[0m     \u001b[38;5;28;43mself\u001b[39;49m\u001b[38;5;241;43m.\u001b[39;49m\u001b[43m_update_chunk_length\u001b[49m\u001b[43m(\u001b[49m\u001b[43m)\u001b[49m\n\u001b[1;32m   1207\u001b[0m     \u001b[38;5;28;01mif\u001b[39;00m \u001b[38;5;28mself\u001b[39m\u001b[38;5;241m.\u001b[39mchunk_left \u001b[38;5;241m==\u001b[39m \u001b[38;5;241m0\u001b[39m:\n\u001b[1;32m   1208\u001b[0m         \u001b[38;5;28;01mbreak\u001b[39;00m\n",
      "File \u001b[0;32m/opt/anaconda3/envs/phd/lib/python3.10/site-packages/urllib3/response.py:1125\u001b[0m, in \u001b[0;36mHTTPResponse._update_chunk_length\u001b[0;34m(self)\u001b[0m\n\u001b[1;32m   1123\u001b[0m \u001b[38;5;28;01mif\u001b[39;00m \u001b[38;5;28mself\u001b[39m\u001b[38;5;241m.\u001b[39mchunk_left \u001b[38;5;129;01mis\u001b[39;00m \u001b[38;5;129;01mnot\u001b[39;00m \u001b[38;5;28;01mNone\u001b[39;00m:\n\u001b[1;32m   1124\u001b[0m     \u001b[38;5;28;01mreturn\u001b[39;00m \u001b[38;5;28;01mNone\u001b[39;00m\n\u001b[0;32m-> 1125\u001b[0m line \u001b[38;5;241m=\u001b[39m \u001b[38;5;28;43mself\u001b[39;49m\u001b[38;5;241;43m.\u001b[39;49m\u001b[43m_fp\u001b[49m\u001b[38;5;241;43m.\u001b[39;49m\u001b[43mfp\u001b[49m\u001b[38;5;241;43m.\u001b[39;49m\u001b[43mreadline\u001b[49m\u001b[43m(\u001b[49m\u001b[43m)\u001b[49m  \u001b[38;5;66;03m# type: ignore[union-attr]\u001b[39;00m\n\u001b[1;32m   1126\u001b[0m line \u001b[38;5;241m=\u001b[39m line\u001b[38;5;241m.\u001b[39msplit(\u001b[38;5;124mb\u001b[39m\u001b[38;5;124m\"\u001b[39m\u001b[38;5;124m;\u001b[39m\u001b[38;5;124m\"\u001b[39m, \u001b[38;5;241m1\u001b[39m)[\u001b[38;5;241m0\u001b[39m]\n\u001b[1;32m   1127\u001b[0m \u001b[38;5;28;01mtry\u001b[39;00m:\n",
      "File \u001b[0;32m/opt/anaconda3/envs/phd/lib/python3.10/socket.py:705\u001b[0m, in \u001b[0;36mSocketIO.readinto\u001b[0;34m(self, b)\u001b[0m\n\u001b[1;32m    703\u001b[0m \u001b[38;5;28;01mwhile\u001b[39;00m \u001b[38;5;28;01mTrue\u001b[39;00m:\n\u001b[1;32m    704\u001b[0m     \u001b[38;5;28;01mtry\u001b[39;00m:\n\u001b[0;32m--> 705\u001b[0m         \u001b[38;5;28;01mreturn\u001b[39;00m \u001b[38;5;28;43mself\u001b[39;49m\u001b[38;5;241;43m.\u001b[39;49m\u001b[43m_sock\u001b[49m\u001b[38;5;241;43m.\u001b[39;49m\u001b[43mrecv_into\u001b[49m\u001b[43m(\u001b[49m\u001b[43mb\u001b[49m\u001b[43m)\u001b[49m\n\u001b[1;32m    706\u001b[0m     \u001b[38;5;28;01mexcept\u001b[39;00m timeout:\n\u001b[1;32m    707\u001b[0m         \u001b[38;5;28mself\u001b[39m\u001b[38;5;241m.\u001b[39m_timeout_occurred \u001b[38;5;241m=\u001b[39m \u001b[38;5;28;01mTrue\u001b[39;00m\n",
      "\u001b[0;31mKeyboardInterrupt\u001b[0m: "
     ]
    }
   ],
   "source": [
    "for dataset_type in [\"committee\", \"academic\", \"product\"]:\n",
    "    segments, labels = get_data(dataset_type)\n",
    "\n",
    "    print(f\"evaluating {dataset_type}\")\n",
    "    determinor = Determinor(max_context_window=5, meeting_dataset=True, deepseek=True)\n",
    "    predictions = determinor.query_batch_data(segments)\n",
    "\n",
    "    preds = [0 if p == True else 1 for p in predictions]\n",
    "\n",
    "    str_labels = ''.join([str(x) for x in labels])\n",
    "    str_predictions = ''.join([str(x) for x in preds])\n",
    "    print()\n",
    "    print(f\"L: {str_labels}\")\n",
    "    print(f\"P: {str_predictions}\")\n",
    "\n",
    "    for k in [2,3,4,5,6,7,10,14,20]:\n",
    "        print(f\"k: {k}, pk: {pk(str_labels, str_predictions, k=k)}, wd: {windowdiff(str_labels, str_predictions, k=k)}\")"
   ]
  },
  {
   "cell_type": "markdown",
   "id": "8efec800-ab94-423a-aebd-3ca284ed5b40",
   "metadata": {},
   "source": [
    "Testing GPT 4o"
   ]
  },
  {
   "cell_type": "code",
   "execution_count": 12,
   "id": "7a0c2ad5-dbf4-43cb-80be-aea2ef71007f",
   "metadata": {},
   "outputs": [
    {
     "name": "stdout",
     "output_type": "stream",
     "text": [
      "Using dataset: qmsum_committee\n",
      "evaluating committee\n",
      ".........................................|..||............|..|....................................................................................||.......................|............................\n",
      "L: 00000000000000000000000000000000000000000100000000000000000001000000000000000000000000000000000000000000000000000000000000000000000000000000000000000000000000001000000000010000000000000000000000000000\n",
      "P: 00000000000000000000000000000000000000000100110000000000001001000000000000000000000000000000000000000000000000000000000000000000000000000000000000110000000000000000000000010000000000000000000000000000\n",
      "k: 2, pk: 0.05025125628140704, wd: 0.05025125628140704\n",
      "k: 3, pk: 0.0707070707070707, wd: 0.0707070707070707\n",
      "k: 4, pk: 0.08121827411167512, wd: 0.09137055837563451\n",
      "k: 5, pk: 0.09183673469387756, wd: 0.11224489795918367\n",
      "k: 6, pk: 0.10256410256410256, wd: 0.13333333333333333\n",
      "k: 7, pk: 0.1134020618556701, wd: 0.15463917525773196\n",
      "k: 10, pk: 0.14659685863874344, wd: 0.2198952879581152\n",
      "k: 14, pk: 0.16042780748663102, wd: 0.29411764705882354\n",
      "k: 20, pk: 0.09944751381215469, wd: 0.3701657458563536\n",
      "Using dataset: qmsum_academic\n",
      "evaluating academic\n",
      ".||||..||.|.............|....||..................................................||.....||.|.....|....|...............|....|.|.........|..............||..|||..|..|....|.................||.............\n",
      "L: 00000000000000000000000100000000000000000000000000000000000000000000000000000000000000000000000000000000000000000000000000100000000000000000000000000000000000000000000000000000000000000000000000000000\n",
      "P: 01111001101000000000000010000110000000000000000000000000000000000000000000000000011000001101000001000010000000000000001000010100000000010000000000000011001110010010000100000000000000000110000000000000\n",
      "k: 2, pk: 0.2562814070351759, wd: 0.2562814070351759\n",
      "k: 3, pk: 0.3282828282828283, wd: 0.3282828282828283\n",
      "k: 4, pk: 0.38071065989847713, wd: 0.38578680203045684\n",
      "k: 5, pk: 0.42346938775510207, wd: 0.4336734693877551\n",
      "k: 6, pk: 0.4564102564102564, wd: 0.47692307692307695\n",
      "k: 7, pk: 0.4793814432989691, wd: 0.5154639175257731\n",
      "k: 10, pk: 0.5497382198952879, wd: 0.6178010471204188\n",
      "k: 14, pk: 0.6149732620320856, wd: 0.7272727272727273\n",
      "k: 20, pk: 0.6077348066298343, wd: 0.8232044198895028\n",
      "Using dataset: qmsum_product\n",
      "evaluating product\n",
      "....|.||..||||||......................|.....||.|............|...................||...........||.............................|.......................................................||..................\n",
      "L: 00000000000000000000000000000000000000000000001000000000000010000000000000000000000000000000000000000000000000000000000000000000000000000000000000010000000000000000000000000000000000000000000000000000\n",
      "P: 00001011001111110000000000000000000000100000110100000000000010000000000000000000110000000000011000000000000000000000000000001000000000000000000000000000000000000000000000000000000011000000000000000000\n",
      "k: 2, pk: 0.1507537688442211, wd: 0.1507537688442211\n",
      "k: 3, pk: 0.1919191919191919, wd: 0.20202020202020202\n",
      "k: 4, pk: 0.22842639593908629, wd: 0.2436548223350254\n",
      "k: 5, pk: 0.2653061224489796, wd: 0.2857142857142857\n",
      "k: 6, pk: 0.29743589743589743, wd: 0.3230769230769231\n",
      "k: 7, pk: 0.3247422680412371, wd: 0.3556701030927835\n",
      "k: 10, pk: 0.4083769633507853, wd: 0.45549738219895286\n",
      "k: 14, pk: 0.5080213903743316, wd: 0.5828877005347594\n",
      "k: 20, pk: 0.6519337016574586, wd: 0.7624309392265194\n"
     ]
    }
   ],
   "source": [
    "for dataset_type in [\"committee\", \"academic\", \"product\"]:\n",
    "    segments, labels = get_data(dataset_type)\n",
    "\n",
    "    print(f\"evaluating {dataset_type}\")\n",
    "    determinor = Determinor(max_context_window=5, meeting_dataset=True, openai_4o=True)\n",
    "    predictions = determinor.query_batch_data(segments)\n",
    "\n",
    "    preds = [0 if p == True else 1 for p in predictions]\n",
    "\n",
    "    str_labels = ''.join([str(x) for x in labels])\n",
    "    str_predictions = ''.join([str(x) for x in preds])\n",
    "    print()\n",
    "    print(f\"L: {str_labels}\")\n",
    "    print(f\"P: {str_predictions}\")\n",
    "\n",
    "    for k in [2,3,4,5,6,7,10,14,20]:\n",
    "        print(f\"k: {k}, pk: {pk(str_labels, str_predictions, k=k)}, wd: {windowdiff(str_labels, str_predictions, k=k)}\")"
   ]
  },
  {
   "cell_type": "markdown",
   "id": "11e6581e-6442-41b4-8365-69735111a6c6",
   "metadata": {},
   "source": [
    "Testing GPT o1"
   ]
  },
  {
   "cell_type": "code",
   "execution_count": 14,
   "id": "93979624-2ef8-4b0a-8dc2-9a5be5554c0e",
   "metadata": {},
   "outputs": [
    {
     "name": "stdout",
     "output_type": "stream",
     "text": [
      "Using dataset: qmsum_committee\n",
      "evaluating committee\n",
      ".....|....|.............||...................|........|......|.......................|.........................|.............|....................||........||..|..........|..................|.........\n",
      "L: 00000000000000000000000000000000000000000100000000000000000001000000000000000000000000000000000000000000000000000000000000000000000000000000000000000000000000001000000000010000000000000000000000000000\n",
      "P: 00000100001000000000000011000000000000000000010000000010000001000000000000000000000001000000000000000000000000010000000000000100000000000000000000110000000011001000000000010000000000000000001000000000\n",
      "k: 2, pk: 0.135678391959799, wd: 0.135678391959799\n",
      "k: 3, pk: 0.19696969696969696, wd: 0.19696969696969696\n",
      "k: 4, pk: 0.25380710659898476, wd: 0.25888324873096447\n",
      "k: 5, pk: 0.3010204081632653, wd: 0.3112244897959184\n",
      "k: 6, pk: 0.3435897435897436, wd: 0.358974358974359\n",
      "k: 7, pk: 0.38144329896907214, wd: 0.4020618556701031\n",
      "k: 10, pk: 0.4712041884816754, wd: 0.5235602094240838\n",
      "k: 14, pk: 0.5454545454545454, wd: 0.6470588235294118\n",
      "k: 20, pk: 0.5469613259668509, wd: 0.7734806629834254\n",
      "Using dataset: qmsum_academic\n",
      "evaluating academic\n",
      "||.||...................|.......||..|..||..........|..........................|..||.....|.....|...........................|.....|...............||........|.|...........................................\n",
      "L: 00000000000000000000000100000000000000000000000000000000000000000000000000000000000000000000000000000000000000000000000000100000000000000000000000000000000000000000000000000000000000000000000000000000\n",
      "P: 11011000000000000000000010000000110010011000000000010000000000000000000000000010011000001000001000000000000000000000000000100000100000000000000011000000001010000000000000000000000000000000000000000000\n",
      "k: 2, pk: 0.17587939698492464, wd: 0.17587939698492464\n",
      "k: 3, pk: 0.23232323232323232, wd: 0.23232323232323232\n",
      "k: 4, pk: 0.27411167512690354, wd: 0.27411167512690354\n",
      "k: 5, pk: 0.3163265306122449, wd: 0.3163265306122449\n",
      "k: 6, pk: 0.358974358974359, wd: 0.358974358974359\n",
      "k: 7, pk: 0.3865979381443299, wd: 0.3917525773195876\n",
      "k: 10, pk: 0.45549738219895286, wd: 0.4816753926701571\n",
      "k: 14, pk: 0.5133689839572193, wd: 0.5828877005347594\n",
      "k: 20, pk: 0.56353591160221, wd: 0.7016574585635359\n",
      "Using dataset: qmsum_product\n",
      "evaluating product\n",
      "|......|.......|..........|....................||...|.......|..............|..................|.............................|......................|.................................|....|.............\n",
      "L: 00000000000000000000000000000000000000000000001000000000000010000000000000000000000000000000000000000000000000000000000000000000000000000000000000010000000000000000000000000000000000000000000000000000\n",
      "P: 10000001000000010000000000100000000000000000000110001000000010000000000000010000000000000000001000000000000000000000000000001000000000000000000000010000000000000000000000000000000001000010000000000000\n",
      "k: 2, pk: 0.11055276381909548, wd: 0.11055276381909548\n",
      "k: 3, pk: 0.15656565656565657, wd: 0.16161616161616163\n",
      "k: 4, pk: 0.20304568527918782, wd: 0.2131979695431472\n",
      "k: 5, pk: 0.24489795918367346, wd: 0.2602040816326531\n",
      "k: 6, pk: 0.28205128205128205, wd: 0.30256410256410254\n",
      "k: 7, pk: 0.31958762886597936, wd: 0.34536082474226804\n",
      "k: 10, pk: 0.39790575916230364, wd: 0.450261780104712\n",
      "k: 14, pk: 0.47593582887700536, wd: 0.5721925133689839\n",
      "k: 20, pk: 0.5580110497237569, wd: 0.7182320441988951\n"
     ]
    }
   ],
   "source": [
    "for dataset_type in [\"committee\", \"academic\", \"product\"]:\n",
    "    segments, labels = get_data(dataset_type)\n",
    "\n",
    "    print(f\"evaluating {dataset_type}\")\n",
    "    determinor = Determinor(max_context_window=5, meeting_dataset=True, openai_o1=True)\n",
    "    predictions = determinor.query_batch_data(segments)\n",
    "\n",
    "    preds = [0 if p == True else 1 for p in predictions]\n",
    "\n",
    "    str_labels = ''.join([str(x) for x in labels])\n",
    "    str_predictions = ''.join([str(x) for x in preds])\n",
    "    print()\n",
    "    print(f\"L: {str_labels}\")\n",
    "    print(f\"P: {str_predictions}\")\n",
    "\n",
    "    for k in [2,3,4,5,6,7,10,14,20]:\n",
    "        print(f\"k: {k}, pk: {pk(str_labels, str_predictions, k=k)}, wd: {windowdiff(str_labels, str_predictions, k=k)}\")"
   ]
  },
  {
   "cell_type": "code",
   "execution_count": 32,
   "id": "0238035a-eb7b-4692-b06a-f82c1feae048",
   "metadata": {},
   "outputs": [
    {
     "name": "stdout",
     "output_type": "stream",
     "text": [
      "Using dataset: qmsum_committee\n",
      "54\n",
      "Using dataset: qmsum_academic\n",
      "267\n",
      "Using dataset: qmsum_product\n",
      "136\n"
     ]
    }
   ],
   "source": [
    "for dataset_type in [\"committee\", \"academic\", \"product\"]:\n",
    "    table = Table(dataset_type)\n",
    "    \n",
    "    all_segments = table.get_all_segments()\n",
    "    \n",
    "    segments = [[y[1] for y in x] for x in all_segments]\n",
    "    segments_labels = [\n",
    "        [1 if i == 0 else 0 for i, y in enumerate(x)] for x in all_segments\n",
    "    ]\n",
    "    flattened_segments = flatten(segments)\n",
    "    flattened_labels = flatten(segments_labels)\n",
    "    \n",
    "    print(len(flattened_labels)//flattened_labels.count(1))"
   ]
  },
  {
   "cell_type": "code",
   "execution_count": null,
   "id": "0ddfe908-fd06-4ad3-bb2e-df46204ddd0a",
   "metadata": {},
   "outputs": [],
   "source": []
  }
 ],
 "metadata": {
  "kernelspec": {
   "display_name": "Python 3 (ipykernel)",
   "language": "python",
   "name": "python3"
  },
  "language_info": {
   "codemirror_mode": {
    "name": "ipython",
    "version": 3
   },
   "file_extension": ".py",
   "mimetype": "text/x-python",
   "name": "python",
   "nbconvert_exporter": "python",
   "pygments_lexer": "ipython3",
   "version": "3.10.14"
  }
 },
 "nbformat": 4,
 "nbformat_minor": 5
}
