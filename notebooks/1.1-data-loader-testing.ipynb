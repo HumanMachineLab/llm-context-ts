{
 "cells": [
  {
   "cell_type": "code",
   "execution_count": 2,
   "id": "bf558c5f-7afc-4a03-97ca-bfb903a59d15",
   "metadata": {},
   "outputs": [],
   "source": [
    "from langchain.document_loaders.pdf import PyPDFDirectoryLoader\n",
    "\n",
    "DATA_PATH=\"../seneca-data/\""
   ]
  },
  {
   "cell_type": "code",
   "execution_count": 1,
   "id": "967db881-485e-46be-b41c-4f8a4bf9eaf7",
   "metadata": {},
   "outputs": [],
   "source": [
    "from langchain_community.document_loaders.recursive_url_loader import RecursiveUrlLoader"
   ]
  },
  {
   "cell_type": "code",
   "execution_count": 10,
   "id": "8feb2a07-6eee-4ca1-9449-e4b9f96c2cc8",
   "metadata": {},
   "outputs": [],
   "source": [
    "from bs4 import BeautifulSoup as Soup\n",
    "\n",
    "url = \"https://www.senecapolytechnic.ca/home.html\"\n",
    "loader = RecursiveUrlLoader(\n",
    "    url=url, max_depth=5, extractor=lambda x: Soup(x, \"html.parser\").text\n",
    ")\n",
    "docs = loader.load()"
   ]
  },
  {
   "cell_type": "code",
   "execution_count": 11,
   "id": "3f9e7803-5249-4dda-ba71-38dafddc192d",
   "metadata": {},
   "outputs": [
    {
     "data": {
      "text/plain": [
       "\"\\n\\n\\n\\n\\nHome - Seneca Polytechnic, Toronto, Canada\\n\\n\\n\\n\\n\\n\\n\\n\\n\\n\\n\\n\\n\\n\\n\\n\\n\\n\\n\\n\\nSkip\\xa0to\\xa0main\\xa0content\\n\\n\\n\\n\\n\\n\\n\\n\\n\\n\\n\\n\\n\\n\\n\\n\\n\\n\\n\\n\\n\\n\\n\\n\\n\\n\\n\\n\\n\\n\\nMySeneca\\n\\n\\nInformation for\\n\\n\\n\\n\\n\\n\\nAlumni\\n\\n\\nDonors\\n\\n\\nEmployers\\n\\n\\nGuidance Counsellors\\n\\n\\nInternational Agents\\n\\n\\nMedia\\n\\n\\n\\n\\n\\n\\n\\n\\n\\n\\n\\n\\n\\n\\n\\n\\t\\t\\n\\t\\tFuture Students\\n\\t\\t\\n\\t\\n\\n\\n\\n\\n\\n\\n\\n\\n Submit\\n\\n\\n\\n\\n\\n\\n\\n\\n\\n\\n\\n\\n\\n\\n\\n\\n\\n\\n\\n\\n\\nWhat we offer\\n\\n\\n\\n\\n\\n\\nPrograms\\n\\n\\nMaster's Degree Pathways\\n\\n\\nDegrees\\n\\n\\nGraduate Certificates\\n\\n\\nDiplomas\\n\\n\\nCertificates\\n\\n\\nMicrocredentials\\n\\n\\nPathways\\n\\n\\n\\n\\n\\n\\n\\n\\n\\nWhy choose Seneca\\n\\n\\n\\n\\n\\n\\nFlexible Learning Options\\n\\n\\nFinancial Supports & Resources\\n\\n\\nStudent Services & Support\\n\\n\\nReal-world Experience\\n\\n\\nApplied Research\\n\\n\\nEntrepreneurship\\n\\n\\nIndigenous Education\\n\\n\\n\\n\\n\\n\\n\\n\\n\\nApply to Seneca\\n\\n\\n\\n\\n\\n\\nCanadian Applicants\\n\\n\\nInternational Applicants\\n\\n\\nPart-time Studies Applicants\\n\\n\\nTransfer Students\\n\\n\\n\\n\\n\\n\\n\\n\\n\\n\\n\\n\\n\\nPodcast\\n\\n\\nX\\n\\n\\nInstagram\\n\\n\\n\\n\\n\\n\\n\\n\\n\\n\\n\\n\\n\\n\\n\\n\\n\\n\\n\\n\\n\\n\\n\\n\\n\\n\\n\\n\\n\\n\\n\\n\\n\\n\\n\\n\\nRegister now for part-time studies\\nExplore programs and courses starting in September\\n\\n\\n\\n\\n\\n\\n\\n\\n\\nSee what we offer\\nChoose from 300+ programs. Apply today.\\n\\n\\n\\n\\n\\n\\n\\n\\n\\nDiscover three-year degrees\\nAttend our webinar on Thursday, Aug. 8 to explore your options\\n\\n\\n\\n\\n\\n\\n\\nPrevious\\n\\n\\n\\nNext\\n\\n\\n\\n\\n\\n\\nFind a program\\n\\n\\n\\n\\n\\n\\nSubmit\\n\\n\\n\\n\\n\\n\\n\\n\\n\\n\\n\\n\\n\\n\\n\\n\\nCampus Tours\\n\\n\\n\\n\\n\\n\\n\\n\\n\\n\\n\\n\\n\\n\\n\\nInternational Students\\n\\n\\n\\n\\n\\n\\n\\n\\n\\n\\n\\n\\n\\n\\n\\nAdvising\\n\\n\\n\\n\\n\\n\\n\\n\\n\\n\\n\\n\\n\\n\\n\\n\\n\\n\\n\\nThe quality of the education and the co-op experience is one of the best in the province.\\nHumdan Yarkhan, Human Resources Management\\n\\n\\n\\n\\n\\n\\n\\n\\n\\n\\n\\n\\n\\n\\n\\n\\n\\n\\t\\t\\n\\t\\tWebinars and Events\\n\\t\\t\\n\\t\\n\\n\\n\\n\\t\\t\\n\\t\\tNews and Media Releases\\n\\t\\t\\n\\t\\n\\n\\n\\n\\n\\n\\n\\n\\n\\n\\n\\n\\nApplied Research project aims to improve debt recovery\\n\\n\\n\\n\\n\\n\\nResearch aims to bring pay-on-demand to restaurant employees\\n\\n\\n\\n\\n\\n\\nGetting a head start on a policing career\\n\\n\\n\\n\\n\\n\\nReimagining higher education: Seneca Polytechnic set to transform postsecondary learning with integration of Microsoft Azure AI\\n\\n\\n\\n\\n\\n\\nAI research helps students and companies get ahead\\n\\n\\n\\n\\n\\n\\nGetting it right under the high-tech microscope\\n\\n\\n\\n\\n\\n\\n\\n\\n\\n\\n\\n\\n\\n\\n\\n\\n\\n\\n\\n\\n\\n\\n\\n\\n\\n\\n\\n\\n\\n\\n\\n\\n\\n\\n\\n\\n\\n\\n\\n\\n\\nApply to Seneca\\n\\n\\n\\n\\nCanadian Applicants\\nInternational Applicants\\nPart-time Studies Applicants\\n\\n\\n\\n\\n\\n\\n\\n\\n\\n\\n\\nAbout Seneca\\n\\n\\n\\n\\n\\n\\nCorporate Training\\n\\n\\nCareers\\n\\n\\nProgram Advisory Committees\\n\\n\\nMedia\\n\\n\\n\\n\\n\\n\\n\\n\\n\\n\\n\\n\\n\\n\\n\\n\\n\\n\\n\\n\\n\\n\\n\\n\\n\\nContact Seneca\\n\\n\\n\\n\\n1750 Finch Avenue East\\nToronto, Ontario, Canada\\nM2J 2X5\\nPhone: +1 416.491.5050\\nCampuses and Locations\\nThe Service Hub\\n\\n\\n\\n\\n\\n\\n\\n\\n\\n\\nGet the Seneca app\\n\\n\\n\\n\\n\\n\\n\\n\\n\\n\\n\\n\\n\\n\\n\\n\\n\\n\\n\\n\\n\\n\\n\\n\\n\\n\\n\\n\\n\\n\\n\\n\\n\\n\\n\\n\\n\\n\\n\\n\\n\\n\\n\\n\\n\\n\\n\\n\\n\\n\\n\\n\\n\\n\\n\\n\\n\\n\\n\\n\\n\\n\\n\\n\\n\\n\\n\\n\\n\\n\\n\\n\\n\\n\\n\\n\\n\\n\\n\\n\\n\\n\\n\\n\\n\\n\\n\\n\\n\\n\\n© 2024 All rights reserved.\\n\\n\\n\\n\\n\\n\\n\\n\\n\\n\\nPrivacy Notice\\n\\n\\n\\n\\n\\n\\n\\n\\n\\n\\nFacebook\\n\\n\\nX\\n\\n\\nLinkedin\\n\\n\\nInstagram\\n\\n\\nYouTube\\n\\n\\n\\n\\n\\n\\n\\n\\n\\n\\n\\n\\n\\n\\n\\n\\n\\n\\n\\n\\n\\n\\n\\n\\n\\n\""
      ]
     },
     "execution_count": 11,
     "metadata": {},
     "output_type": "execute_result"
    }
   ],
   "source": [
    "docs[0].page_content"
   ]
  },
  {
   "cell_type": "code",
   "execution_count": 12,
   "id": "07c6c883-06ec-4e1b-87ea-7396737ddfcd",
   "metadata": {},
   "outputs": [
    {
     "data": {
      "text/plain": [
       "[Document(metadata={'source': 'https://www.senecapolytechnic.ca/home.html', 'content_type': 'text/html; charset=UTF-8', 'title': 'Home - Seneca Polytechnic, Toronto, Canada', 'description': 'Seneca Polytechnic, Toronto, Ontario, offers degree, diploma and certificate programs, full- and part-time online and on-campus in the Greater Toronto.', 'language': 'en-CA'}, page_content=\"\\n\\n\\n\\n\\nHome - Seneca Polytechnic, Toronto, Canada\\n\\n\\n\\n\\n\\n\\n\\n\\n\\n\\n\\n\\n\\n\\n\\n\\n\\n\\n\\n\\nSkip\\xa0to\\xa0main\\xa0content\\n\\n\\n\\n\\n\\n\\n\\n\\n\\n\\n\\n\\n\\n\\n\\n\\n\\n\\n\\n\\n\\n\\n\\n\\n\\n\\n\\n\\n\\n\\nMySeneca\\n\\n\\nInformation for\\n\\n\\n\\n\\n\\n\\nAlumni\\n\\n\\nDonors\\n\\n\\nEmployers\\n\\n\\nGuidance Counsellors\\n\\n\\nInternational Agents\\n\\n\\nMedia\\n\\n\\n\\n\\n\\n\\n\\n\\n\\n\\n\\n\\n\\n\\n\\n\\t\\t\\n\\t\\tFuture Students\\n\\t\\t\\n\\t\\n\\n\\n\\n\\n\\n\\n\\n\\n Submit\\n\\n\\n\\n\\n\\n\\n\\n\\n\\n\\n\\n\\n\\n\\n\\n\\n\\n\\n\\n\\n\\nWhat we offer\\n\\n\\n\\n\\n\\n\\nPrograms\\n\\n\\nMaster's Degree Pathways\\n\\n\\nDegrees\\n\\n\\nGraduate Certificates\\n\\n\\nDiplomas\\n\\n\\nCertificates\\n\\n\\nMicrocredentials\\n\\n\\nPathways\\n\\n\\n\\n\\n\\n\\n\\n\\n\\nWhy choose Seneca\\n\\n\\n\\n\\n\\n\\nFlexible Learning Options\\n\\n\\nFinancial Supports & Resources\\n\\n\\nStudent Services & Support\\n\\n\\nReal-world Experience\\n\\n\\nApplied Research\\n\\n\\nEntrepreneurship\\n\\n\\nIndigenous Education\\n\\n\\n\\n\\n\\n\\n\\n\\n\\nApply to Seneca\\n\\n\\n\\n\\n\\n\\nCanadian Applicants\\n\\n\\nInternational Applicants\\n\\n\\nPart-time Studies Applicants\\n\\n\\nTransfer Students\\n\\n\\n\\n\\n\\n\\n\\n\\n\\n\\n\\n\\n\\nPodcast\\n\\n\\nX\\n\\n\\nInstagram\\n\\n\\n\\n\\n\\n\\n\\n\\n\\n\\n\\n\\n\\n\\n\\n\\n\\n\\n\\n\\n\\n\\n\\n\\n\\n\\n\\n\\n\\n\\n\\n\\n\\n\\n\\n\\nRegister now for part-time studies\\nExplore programs and courses starting in September\\n\\n\\n\\n\\n\\n\\n\\n\\n\\nSee what we offer\\nChoose from 300+ programs. Apply today.\\n\\n\\n\\n\\n\\n\\n\\n\\n\\nDiscover three-year degrees\\nAttend our webinar on Thursday, Aug. 8 to explore your options\\n\\n\\n\\n\\n\\n\\n\\nPrevious\\n\\n\\n\\nNext\\n\\n\\n\\n\\n\\n\\nFind a program\\n\\n\\n\\n\\n\\n\\nSubmit\\n\\n\\n\\n\\n\\n\\n\\n\\n\\n\\n\\n\\n\\n\\n\\n\\nCampus Tours\\n\\n\\n\\n\\n\\n\\n\\n\\n\\n\\n\\n\\n\\n\\n\\nInternational Students\\n\\n\\n\\n\\n\\n\\n\\n\\n\\n\\n\\n\\n\\n\\n\\nAdvising\\n\\n\\n\\n\\n\\n\\n\\n\\n\\n\\n\\n\\n\\n\\n\\n\\n\\n\\n\\nThe quality of the education and the co-op experience is one of the best in the province.\\nHumdan Yarkhan, Human Resources Management\\n\\n\\n\\n\\n\\n\\n\\n\\n\\n\\n\\n\\n\\n\\n\\n\\n\\n\\t\\t\\n\\t\\tWebinars and Events\\n\\t\\t\\n\\t\\n\\n\\n\\n\\t\\t\\n\\t\\tNews and Media Releases\\n\\t\\t\\n\\t\\n\\n\\n\\n\\n\\n\\n\\n\\n\\n\\n\\n\\nApplied Research project aims to improve debt recovery\\n\\n\\n\\n\\n\\n\\nResearch aims to bring pay-on-demand to restaurant employees\\n\\n\\n\\n\\n\\n\\nGetting a head start on a policing career\\n\\n\\n\\n\\n\\n\\nReimagining higher education: Seneca Polytechnic set to transform postsecondary learning with integration of Microsoft Azure AI\\n\\n\\n\\n\\n\\n\\nAI research helps students and companies get ahead\\n\\n\\n\\n\\n\\n\\nGetting it right under the high-tech microscope\\n\\n\\n\\n\\n\\n\\n\\n\\n\\n\\n\\n\\n\\n\\n\\n\\n\\n\\n\\n\\n\\n\\n\\n\\n\\n\\n\\n\\n\\n\\n\\n\\n\\n\\n\\n\\n\\n\\n\\n\\n\\nApply to Seneca\\n\\n\\n\\n\\nCanadian Applicants\\nInternational Applicants\\nPart-time Studies Applicants\\n\\n\\n\\n\\n\\n\\n\\n\\n\\n\\n\\nAbout Seneca\\n\\n\\n\\n\\n\\n\\nCorporate Training\\n\\n\\nCareers\\n\\n\\nProgram Advisory Committees\\n\\n\\nMedia\\n\\n\\n\\n\\n\\n\\n\\n\\n\\n\\n\\n\\n\\n\\n\\n\\n\\n\\n\\n\\n\\n\\n\\n\\n\\nContact Seneca\\n\\n\\n\\n\\n1750 Finch Avenue East\\nToronto, Ontario, Canada\\nM2J 2X5\\nPhone: +1 416.491.5050\\nCampuses and Locations\\nThe Service Hub\\n\\n\\n\\n\\n\\n\\n\\n\\n\\n\\nGet the Seneca app\\n\\n\\n\\n\\n\\n\\n\\n\\n\\n\\n\\n\\n\\n\\n\\n\\n\\n\\n\\n\\n\\n\\n\\n\\n\\n\\n\\n\\n\\n\\n\\n\\n\\n\\n\\n\\n\\n\\n\\n\\n\\n\\n\\n\\n\\n\\n\\n\\n\\n\\n\\n\\n\\n\\n\\n\\n\\n\\n\\n\\n\\n\\n\\n\\n\\n\\n\\n\\n\\n\\n\\n\\n\\n\\n\\n\\n\\n\\n\\n\\n\\n\\n\\n\\n\\n\\n\\n\\n\\n\\n© 2024 All rights reserved.\\n\\n\\n\\n\\n\\n\\n\\n\\n\\n\\nPrivacy Notice\\n\\n\\n\\n\\n\\n\\n\\n\\n\\n\\nFacebook\\n\\n\\nX\\n\\n\\nLinkedin\\n\\n\\nInstagram\\n\\n\\nYouTube\\n\\n\\n\\n\\n\\n\\n\\n\\n\\n\\n\\n\\n\\n\\n\\n\\n\\n\\n\\n\\n\\n\\n\\n\\n\\n\")]"
      ]
     },
     "execution_count": 12,
     "metadata": {},
     "output_type": "execute_result"
    }
   ],
   "source": [
    "docs"
   ]
  },
  {
   "cell_type": "code",
   "execution_count": null,
   "id": "c22a5613-332e-48d0-9711-2809adfcd10b",
   "metadata": {},
   "outputs": [],
   "source": []
  }
 ],
 "metadata": {
  "kernelspec": {
   "display_name": "Python 3 (ipykernel)",
   "language": "python",
   "name": "python3"
  },
  "language_info": {
   "codemirror_mode": {
    "name": "ipython",
    "version": 3
   },
   "file_extension": ".py",
   "mimetype": "text/x-python",
   "name": "python",
   "nbconvert_exporter": "python",
   "pygments_lexer": "ipython3",
   "version": "3.12.4"
  }
 },
 "nbformat": 4,
 "nbformat_minor": 5
}
