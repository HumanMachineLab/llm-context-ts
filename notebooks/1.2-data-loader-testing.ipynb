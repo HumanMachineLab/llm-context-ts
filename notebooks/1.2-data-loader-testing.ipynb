{
 "cells": [
  {
   "cell_type": "code",
   "execution_count": 9,
   "id": "967db881-485e-46be-b41c-4f8a4bf9eaf7",
   "metadata": {},
   "outputs": [],
   "source": [
    "from langchain_community.document_loaders import DirectoryLoader\n",
    "\n",
    "from langchain_text_splitters import RecursiveCharacterTextSplitter"
   ]
  },
  {
   "cell_type": "code",
   "execution_count": 25,
   "id": "8feb2a07-6eee-4ca1-9449-e4b9f96c2cc8",
   "metadata": {},
   "outputs": [],
   "source": [
    "loader = DirectoryLoader('../data/choi/1/3-5', glob=\"*.ref\")"
   ]
  },
  {
   "cell_type": "code",
   "execution_count": 26,
   "id": "3f9e7803-5249-4dda-ba71-38dafddc192d",
   "metadata": {},
   "outputs": [],
   "source": [
    "data = loader.load()"
   ]
  },
  {
   "cell_type": "code",
   "execution_count": 27,
   "id": "07c6c883-06ec-4e1b-87ea-7396737ddfcd",
   "metadata": {},
   "outputs": [
    {
     "data": {
      "text/plain": [
       "Document(metadata={'source': '../data/choi/1/3-5/13.ref'}, page_content=\"==========\\n\\nit was inevitable that differences of opinion should arise about the methods for applying these policies .\\n\\nIt was nevertheless almost incredible that four years after Yalta there should be a complete split over Germany , with hot heads on both sides planning to use the Germans against their former allies , and with Nazi-minded Germans expecting to recover their power by fighting on one side or the other .\\n\\n5 .\\n\\n==========\\n\\nRomantic news concerns Mrs. Joan Monroe Armour and F. Lee H. Wendell , who are to be married at 4:30 p.m. tomorrow in the Lake Forest home of her brother , J. Hampton Monroe , and Mrs. Monroe .\\n\\nOnly the families and a dozen close friends will be present .\\n\\nThe bride 's brother , Walter D. Monroe Jr. , will give her in marriage .\\n\\nIn the small group will be the junior and senior Mrs. Walter Monroe ; ; the bridegroom 's parents , the Barrett Wendells , who are returning from a winter holiday in Sarasota , Fla. , for the occasion ; ; and his brother , Mr. Wendell Jr. , and his wife , who will arrive from Boston .\\n\\nMr. Wendell Jr. will be best man .\\n\\n==========\\n\\none characteristic distinguishes Boris Godunov , it is the consistency with which every person on the stage -- including the chorus -- comes alive in the music .\\n\\nMuch of this lifelike quality results from Mussorgsky 's care in basing his vocal line on natural speech inflections .\\n\\nIn this he followed a path that led back to the very source of opera ; ; such composers as Monteverdi , Lully and Purcell , with the same goal in mind , had developed styles of recitative sensitively attuned to their own languages .\\n\\nThrough long experimentation in his songs , Mussorgsky developed a Russian recitative as different from others as the language itself .\\n\\nGiving most of his musical continuity to the orchestra , he lets the speech fall into place as if by coincidence , but controlling the pace and emphasis of the words .\\n\\n==========\\n\\nSt. Johns , Mich. , April 19 .\\n\\n-- A jury of seven men and five women found 21-year-old Richard Pohl guilty of manslaughter yesterday in the bludgeon slaying of Mrs. Anna Hengesbach .\\n\\nPohl received the verdict without visible emotion .\\n\\nHe returned to his cell in the county jail , where he has been held since his arrest last July , without a word to his court-appointed attorney , Jack Walker , or his guard .\\n\\n==========\\n\\nThe Poynting-Robertson effect ( Robertson , 1937 ; ; Wyatt and Whipple , 1950 ) , which is a retardation of the orbital motion of particles by the relativistic aberration of the repulsive force of the impinging solar radiation , causes the dust to spiral into the sun in times much shorter than the age of the Earth .\\n\\nThe radial velocity varies inversely as the particle size -- a 1000-m-diameter particle near the orbit of Mars would reach the sun in about 60 million years .\\n\\nWhipple ( 1955 ) extends the effects to include the solar-corpuscular-radiation pressure , which increases both the minimum particle size and the drag .\\n\\nFurther , the corpuscular radiation , i.e. , the solar-wind protons , must sputter away the surface atoms of the dust and cause a slow diminution in size , with a resultant increase in both the Poynting-Robertson effect and the ratio of the repulsive force to the gravitational force .\\n\\nThe Poynting-Robertson effect causes the semi-major axis of orbits to diminish more rapidly than the semi-minor axis , with a consequent tendency toward circular orbits as the particles move toward the sun .\\n\\n==========\\n\\nthe Midwest , oxidation ponds are used extensively for the treatment of domestic sewage from suburban areas .\\n\\nThe high cost of land and a few operational problems resulting from excessive loadings have created the need for a wastewater treatment system with the operational characteristics of the oxidation pond but with the ability to treat more organic matter per unit volume .\\n\\nResearch at Fayette , Missouri on oxidation ponds has shown that the BOD in the treated effluent varied from 30 to 53 mg with loadings from 8 to 120 lb .\\n\\n==========\\n\\n: talking and listening Though President John F. Kennedy was primarily concerned with the crucial problems of Berlin and disarmament adviser McCloy 's unexpected report from Khrushchev , his new enthusiasm and reliance on personal diplomacy involved him in other key problems of U.S. foreign policy last week .\\n\\nHigh up on the President 's priority list was the thorny question of Bizerte .\\n\\nOn this issue , the President received a detailed report from his U.N. Ambassador Adlai Stevenson , who had just returned from Paris , and Mr. Kennedy asked Stevenson to search for a face-saving way -- for both Paris and Tunis -- out of the imbroglio .\\n\\n==========\\n\\nthe effect of the digitalis glycosides is inhibited by a high concentration of potassium in the incubation medium and is enhanced by the absence of potassium ( Wolff , 1960 ) .\\n\\nB. Organification of iodine The precise mechanism for organification of iodine in the thyroid is not as yet completely understood .\\n\\nHowever , the formation of organically bound iodine , mainly mono-iodotyrosine , can be accomplished in cell-free systems .\\n\\nIn the absence of additions to the homogenate , the product formed is an iodinated particulate protein ( Fawcett and Kirkwood , 1953 ; ; Taurog , Potter and Chaikoff , 1955 ; ; Taurog , Potter , Tong , and Chaikoff , 1956 ; ; Serif and Kirkwood , 1958 ; ; De Groot and Carvalho , 1960 ) .\\n\\n==========\\n\\nSome of the features of the top portions of Figure 1 and Figure 2 were mentioned in discussing Table 1 .\\n\\nFirst , the Onset Profile spreads across approximately 12 years for boys and 10 years for girls .\\n\\nIn contrast , 20 of the 21 lines in the Completion Profile ( excluding center 5 for boys and 4 for girls ) are bunched and extend over a much shorter period , approximately 30 months for boys and 40 months for girls .\\n\\n==========\\n\\nthe outlook for interest rates in 1961 , the question , as always , is the prospect for general business activity .\\n\\nBy and large , what happens to business as a whole will govern the relationship between demand and supply conditions in the capital markets and will thus determine interest rates .\\n\\nMoreover , the trend of general business activity in 1961 will exert a decisive influence on fiscal , monetary , and other Federal policies which affect interest rates .\\n\\nNineteen-sixty has been a baffling year for analysts of general business activity .\\n\\n==========\")"
      ]
     },
     "execution_count": 27,
     "metadata": {},
     "output_type": "execute_result"
    }
   ],
   "source": [
    "data[1]"
   ]
  },
  {
   "cell_type": "code",
   "execution_count": 20,
   "id": "c22a5613-332e-48d0-9711-2809adfcd10b",
   "metadata": {},
   "outputs": [],
   "source": [
    "text_splitter = RecursiveCharacterTextSplitter(\n",
    "    chunk_size=800,\n",
    "    chunk_overlap=80,\n",
    "    length_function=len,\n",
    "    is_separator_regex=False,\n",
    ")\n",
    "chunks = text_splitter.split_documents(data)"
   ]
  },
  {
   "cell_type": "code",
   "execution_count": 24,
   "id": "6b06be45-0031-41b8-970f-090e72269a2f",
   "metadata": {},
   "outputs": [
    {
     "data": {
      "text/plain": [
       "[Document(metadata={'source': '../data/choi/1/3-11/12.ref'}, page_content='==========\\n\\nTemperature of the wash and rinse waters is maintained at 85 - 90-degrees-F ( 29 - 32-degrees-C ) .\\n\\nThe top rolls are loaded with 40 lbs .. Sixty lbs. loading is possible but 40 lbs. is adequate .\\n\\nThe suds box drain is arranged at the start to deliver into the raised main drain pipe ( thus returning suds to soap box ) and the machine is started .\\n\\nThe 160-ml. bath containing the calculated amount of detergent is applied slowly and directly to the running specimen .\\n\\nWashing is continued for 30 minutes or for a period of time sufficient to allow 100 nips or passes through the squeeze rolls .\\n\\nAt the conclusion of the washing , 8 liters of water at 90-degrees-F ( 32 \\\\* 0C. ) are automatically metered from the rinse reservoir to the washing tubs , 4 liters to each tub .'),\n",
       " Document(metadata={'source': '../data/choi/1/3-11/12.ref'}, page_content=\"This operation requires from 10 to 12 minutes .\\n\\nDuring the rinsing operation the volume in the tubs gradually increases until overflow from the main drain begins .\\n\\n==========\\n\\nEvery library borrower , or at least those whose taste goes beyond the five-cent fiction rentals , knows what it is to hear the librarian say apologetically , `` I 'm sorry , but we do n't have that book .\\n\\nThere would n't be much demand for it , I 'm afraid '' .\\n\\nBehind this reply , and its many variations , is the ever-present budget problem all libraries must face , from the largest to the smallest .\\n\\n==========\\n\\nthe three main categories of antisubmarine warfare operations are defense of shipping , defense of naval forces , and area defense .\"),\n",
       " Document(metadata={'source': '../data/choi/1/3-11/12.ref'}, page_content='The last category overlaps the others in amphibious operations and near terminals and bases .\\n\\nTo effect these operations , five elements exist ( 1 ) surface , ( 2 ) air , ( 3 ) mines , ( 4 ) submarine , and ( 5 ) fixed installations .\\n\\nSurface forces have been used to provide defense zones around naval and merchant ship formations , air to furnish area surveillance , and mines for protection of limited areas .\\n\\nSubmarines and shore installations are new elements .\\n\\nThe submarine now has a definite place in submarine defense particularly in denying enemy access to ocean areas .\\n\\nFixed installations offer possibilities for area detection .\\n\\nMine warfare is being reoriented against submarine targets .\\n\\n==========')]"
      ]
     },
     "execution_count": 24,
     "metadata": {},
     "output_type": "execute_result"
    }
   ],
   "source": [
    "chunks[:3]"
   ]
  },
  {
   "cell_type": "code",
   "execution_count": null,
   "id": "7b963f21-6f7e-4dca-ad26-1fecb135f838",
   "metadata": {},
   "outputs": [],
   "source": []
  }
 ],
 "metadata": {
  "kernelspec": {
   "display_name": "Python 3 (ipykernel)",
   "language": "python",
   "name": "python3"
  },
  "language_info": {
   "codemirror_mode": {
    "name": "ipython",
    "version": 3
   },
   "file_extension": ".py",
   "mimetype": "text/x-python",
   "name": "python",
   "nbconvert_exporter": "python",
   "pygments_lexer": "ipython3",
   "version": "3.12.4"
  }
 },
 "nbformat": 4,
 "nbformat_minor": 5
}
