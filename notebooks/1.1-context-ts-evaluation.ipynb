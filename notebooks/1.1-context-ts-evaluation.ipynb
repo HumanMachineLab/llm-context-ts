{
 "cells": [
  {
   "cell_type": "code",
   "execution_count": 1,
   "id": "ff6f651d-684b-472d-8b04-7d3768d7ed0b",
   "metadata": {},
   "outputs": [],
   "source": [
    "%load_ext autoreload\n",
    "%autoreload 2"
   ]
  },
  {
   "cell_type": "code",
   "execution_count": 2,
   "id": "2607f7e7-118c-4ec0-8a0a-395c90be2158",
   "metadata": {},
   "outputs": [],
   "source": [
    "import config\n",
    "import sys\n",
    "import os\n",
    "\n",
    "config.root_path = os.path.abspath(os.path.join(os.getcwd(), \"..\"))\n",
    "sys.path.insert(0, config.root_path)"
   ]
  },
  {
   "cell_type": "code",
   "execution_count": 3,
   "id": "71448b37-3eb7-47ba-983d-4637812b532d",
   "metadata": {},
   "outputs": [],
   "source": [
    "from db.dbv2 import Table, AugmentedTable, TrainTestTable\n",
    "from src.dataset.utils import truncate_by_token, flatten, dedupe_list, truncate_string"
   ]
  },
  {
   "cell_type": "markdown",
   "id": "9570b159-6c3f-4648-80ed-21eaddb9ddc3",
   "metadata": {},
   "source": [
    "### === Prepare Dataset ==="
   ]
  },
  {
   "cell_type": "code",
   "execution_count": 10,
   "id": "335dbb8c-8a8b-4d4b-bd97-14a88cc06a00",
   "metadata": {},
   "outputs": [],
   "source": [
    "def get_data(dataset_type: str):\n",
    "    table = Table(dataset_type)\n",
    "    \n",
    "    num_sentences = 100\n",
    "    offset = 200\n",
    "    max_segment_length = 99\n",
    "    \n",
    "    all_segments = table.get_all_segments()\n",
    "    \n",
    "    segments = [[y[1] for y in x][:max_segment_length] for x in all_segments]\n",
    "    segments_labels = [\n",
    "        [1 if i == 0 else 0 for i, y in enumerate(x)][:max_segment_length] for x in all_segments\n",
    "    ]\n",
    "    \n",
    "    flattened_segments = flatten(segments)\n",
    "    flattened_labels = flatten(segments_labels)\n",
    "    \n",
    "    segments_to_test = flattened_segments[offset:offset+num_sentences]\n",
    "    labels_to_test = flattened_labels[offset:offset+num_sentences]\n",
    "\n",
    "    return segments_to_test, labels_to_test"
   ]
  },
  {
   "cell_type": "markdown",
   "id": "58e4c028-623b-44c8-b820-acc9c944a85e",
   "metadata": {},
   "source": [
    "### === Testing ==="
   ]
  },
  {
   "cell_type": "code",
   "execution_count": 11,
   "id": "a47670fd-94ee-4938-9c24-45c4a217c49f",
   "metadata": {},
   "outputs": [],
   "source": [
    "from src.determinor import Determinor\n",
    "from nltk.metrics.segmentation import pk, windowdiff"
   ]
  },
  {
   "cell_type": "code",
   "execution_count": 12,
   "id": "2e1e070b-be6c-49c2-bf43-4b4313138f80",
   "metadata": {},
   "outputs": [],
   "source": [
    "determinor = Determinor()"
   ]
  },
  {
   "cell_type": "code",
   "execution_count": 14,
   "id": "fecd1bd7-8da6-4e73-87c5-dee70f2e5b66",
   "metadata": {},
   "outputs": [
    {
     "name": "stdout",
     "output_type": "stream",
     "text": [
      "Using dataset: choi_3_5\n",
      "evaluating choi_3_5\n",
      "..|.|||||||...|.||..|..|....||||||.|..|....|..|..||..|||||...|.||||...|||..|..|||...|||..|..|..|.|.\n",
      "L: 001000100100001001001001000010000100001000010010001000100100010000100010000100001000010001001000010\n",
      "P: 001011111110001011001001000011111101001000010010011001111100010111100011100100111000111001001001010\n",
      "k: 2, pk: 0.24489795918367346, wd: 0.40816326530612246\n",
      "k: 3, pk: 0.18556701030927836, wd: 0.5257731958762887\n",
      "k: 4, pk: 0.08333333333333333, wd: 0.6354166666666666\n",
      "k: 5, pk: 0.0, wd: 0.7263157894736842\n",
      "k: 6, pk: 0.0, wd: 0.7978723404255319\n",
      "k: 7, pk: 0.0, wd: 0.8387096774193549\n",
      "Using dataset: choi_3_11\n",
      "evaluating choi_3_11\n",
      "......||......|...||..|..||.|.....|.|||||.....|..|....|.|.|..||.......||..|......|.||.|||....|....|\n",
      "L: 000000010000001000000000010010000010000010000010010000000010001000100001001000000100000100000000001\n",
      "P: 000000110000001000110010011010000010111110000010010000101010011000000011001000000101101110000100001\n",
      "k: 2, pk: 0.2653061224489796, wd: 0.336734693877551\n",
      "k: 3, pk: 0.27835051546391754, wd: 0.4536082474226804\n",
      "k: 4, pk: 0.2708333333333333, wd: 0.5625\n",
      "k: 5, pk: 0.23157894736842105, wd: 0.6421052631578947\n",
      "k: 6, pk: 0.1702127659574468, wd: 0.6808510638297872\n",
      "k: 7, pk: 0.12903225806451613, wd: 0.7096774193548387\n"
     ]
    }
   ],
   "source": [
    "# for dataset_type in [\"choi_3_5\", \"choi_3_11\", \"choi_9_11\", \"choi_6_8\"]:\n",
    "for dataset_type in [\"choi_3_5\", \"choi_3_11\"]:\n",
    "    segments, labels = get_data(dataset_type)\n",
    "\n",
    "    print(f\"evaluating {dataset_type}\")\n",
    "    predictions = determinor.query_batch_data(segments)\n",
    "\n",
    "    preds = [0 if p == True else 1 for p in predictions]\n",
    "\n",
    "    str_labels = ''.join([str(x) for x in labels[1:]])\n",
    "    str_predictions = ''.join([str(x) for x in preds])\n",
    "    print()\n",
    "    print(f\"L: {str_labels}\")\n",
    "    print(f\"P: {str_predictions}\")\n",
    "\n",
    "    for k in [2,3,4,5,6,7]:\n",
    "        print(f\"k: {k}, pk: {pk(str_labels, str_predictions, k=k)}, wd: {windowdiff(str_labels, str_predictions, k=k)}\")"
   ]
  },
  {
   "cell_type": "code",
   "execution_count": null,
   "id": "65b5b880-add9-4835-9446-1e9d47cb0b0c",
   "metadata": {},
   "outputs": [],
   "source": []
  }
 ],
 "metadata": {
  "kernelspec": {
   "display_name": "Python 3 (ipykernel)",
   "language": "python",
   "name": "python3"
  },
  "language_info": {
   "codemirror_mode": {
    "name": "ipython",
    "version": 3
   },
   "file_extension": ".py",
   "mimetype": "text/x-python",
   "name": "python",
   "nbconvert_exporter": "python",
   "pygments_lexer": "ipython3",
   "version": "3.10.14"
  }
 },
 "nbformat": 4,
 "nbformat_minor": 5
}
